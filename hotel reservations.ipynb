{
 "cells": [
  {
   "cell_type": "code",
   "execution_count": 2,
   "metadata": {},
   "outputs": [],
   "source": [
    "import numpy as np\n",
    "import pandas as pd\n",
    "import matplotlib.pyplot as plt\n",
    "import seaborn as sns"
   ]
  },
  {
   "cell_type": "code",
   "execution_count": 3,
   "metadata": {},
   "outputs": [],
   "source": [
    "df=pd.read_csv(r\"C:\\Users\\91987\\Downloads\\archive\\Hotel Reservations.csv\",index_col=0)"
   ]
  },
  {
   "cell_type": "code",
   "execution_count": 4,
   "metadata": {},
   "outputs": [
    {
     "data": {
      "text/html": [
       "<div>\n",
       "<style scoped>\n",
       "    .dataframe tbody tr th:only-of-type {\n",
       "        vertical-align: middle;\n",
       "    }\n",
       "\n",
       "    .dataframe tbody tr th {\n",
       "        vertical-align: top;\n",
       "    }\n",
       "\n",
       "    .dataframe thead th {\n",
       "        text-align: right;\n",
       "    }\n",
       "</style>\n",
       "<table border=\"1\" class=\"dataframe\">\n",
       "  <thead>\n",
       "    <tr style=\"text-align: right;\">\n",
       "      <th></th>\n",
       "      <th>no_of_adults</th>\n",
       "      <th>no_of_children</th>\n",
       "      <th>no_of_weekend_nights</th>\n",
       "      <th>no_of_week_nights</th>\n",
       "      <th>type_of_meal_plan</th>\n",
       "      <th>required_car_parking_space</th>\n",
       "      <th>room_type_reserved</th>\n",
       "      <th>lead_time</th>\n",
       "      <th>arrival_year</th>\n",
       "      <th>arrival_month</th>\n",
       "      <th>arrival_date</th>\n",
       "      <th>market_segment_type</th>\n",
       "      <th>repeated_guest</th>\n",
       "      <th>no_of_previous_cancellations</th>\n",
       "      <th>no_of_previous_bookings_not_canceled</th>\n",
       "      <th>avg_price_per_room</th>\n",
       "      <th>no_of_special_requests</th>\n",
       "      <th>booking_status</th>\n",
       "    </tr>\n",
       "    <tr>\n",
       "      <th>Booking_ID</th>\n",
       "      <th></th>\n",
       "      <th></th>\n",
       "      <th></th>\n",
       "      <th></th>\n",
       "      <th></th>\n",
       "      <th></th>\n",
       "      <th></th>\n",
       "      <th></th>\n",
       "      <th></th>\n",
       "      <th></th>\n",
       "      <th></th>\n",
       "      <th></th>\n",
       "      <th></th>\n",
       "      <th></th>\n",
       "      <th></th>\n",
       "      <th></th>\n",
       "      <th></th>\n",
       "      <th></th>\n",
       "    </tr>\n",
       "  </thead>\n",
       "  <tbody>\n",
       "    <tr>\n",
       "      <th>INN00001</th>\n",
       "      <td>2</td>\n",
       "      <td>0</td>\n",
       "      <td>1</td>\n",
       "      <td>2</td>\n",
       "      <td>Meal Plan 1</td>\n",
       "      <td>0</td>\n",
       "      <td>Room_Type 1</td>\n",
       "      <td>224</td>\n",
       "      <td>2017</td>\n",
       "      <td>10</td>\n",
       "      <td>2</td>\n",
       "      <td>Offline</td>\n",
       "      <td>0</td>\n",
       "      <td>0</td>\n",
       "      <td>0</td>\n",
       "      <td>65.00</td>\n",
       "      <td>0</td>\n",
       "      <td>Not_Canceled</td>\n",
       "    </tr>\n",
       "    <tr>\n",
       "      <th>INN00002</th>\n",
       "      <td>2</td>\n",
       "      <td>0</td>\n",
       "      <td>2</td>\n",
       "      <td>3</td>\n",
       "      <td>Not Selected</td>\n",
       "      <td>0</td>\n",
       "      <td>Room_Type 1</td>\n",
       "      <td>5</td>\n",
       "      <td>2018</td>\n",
       "      <td>11</td>\n",
       "      <td>6</td>\n",
       "      <td>Online</td>\n",
       "      <td>0</td>\n",
       "      <td>0</td>\n",
       "      <td>0</td>\n",
       "      <td>106.68</td>\n",
       "      <td>1</td>\n",
       "      <td>Not_Canceled</td>\n",
       "    </tr>\n",
       "    <tr>\n",
       "      <th>INN00003</th>\n",
       "      <td>1</td>\n",
       "      <td>0</td>\n",
       "      <td>2</td>\n",
       "      <td>1</td>\n",
       "      <td>Meal Plan 1</td>\n",
       "      <td>0</td>\n",
       "      <td>Room_Type 1</td>\n",
       "      <td>1</td>\n",
       "      <td>2018</td>\n",
       "      <td>2</td>\n",
       "      <td>28</td>\n",
       "      <td>Online</td>\n",
       "      <td>0</td>\n",
       "      <td>0</td>\n",
       "      <td>0</td>\n",
       "      <td>60.00</td>\n",
       "      <td>0</td>\n",
       "      <td>Canceled</td>\n",
       "    </tr>\n",
       "    <tr>\n",
       "      <th>INN00004</th>\n",
       "      <td>2</td>\n",
       "      <td>0</td>\n",
       "      <td>0</td>\n",
       "      <td>2</td>\n",
       "      <td>Meal Plan 1</td>\n",
       "      <td>0</td>\n",
       "      <td>Room_Type 1</td>\n",
       "      <td>211</td>\n",
       "      <td>2018</td>\n",
       "      <td>5</td>\n",
       "      <td>20</td>\n",
       "      <td>Online</td>\n",
       "      <td>0</td>\n",
       "      <td>0</td>\n",
       "      <td>0</td>\n",
       "      <td>100.00</td>\n",
       "      <td>0</td>\n",
       "      <td>Canceled</td>\n",
       "    </tr>\n",
       "    <tr>\n",
       "      <th>INN00005</th>\n",
       "      <td>2</td>\n",
       "      <td>0</td>\n",
       "      <td>1</td>\n",
       "      <td>1</td>\n",
       "      <td>Not Selected</td>\n",
       "      <td>0</td>\n",
       "      <td>Room_Type 1</td>\n",
       "      <td>48</td>\n",
       "      <td>2018</td>\n",
       "      <td>4</td>\n",
       "      <td>11</td>\n",
       "      <td>Online</td>\n",
       "      <td>0</td>\n",
       "      <td>0</td>\n",
       "      <td>0</td>\n",
       "      <td>94.50</td>\n",
       "      <td>0</td>\n",
       "      <td>Canceled</td>\n",
       "    </tr>\n",
       "  </tbody>\n",
       "</table>\n",
       "</div>"
      ],
      "text/plain": [
       "            no_of_adults  no_of_children  no_of_weekend_nights  \\\n",
       "Booking_ID                                                       \n",
       "INN00001               2               0                     1   \n",
       "INN00002               2               0                     2   \n",
       "INN00003               1               0                     2   \n",
       "INN00004               2               0                     0   \n",
       "INN00005               2               0                     1   \n",
       "\n",
       "            no_of_week_nights type_of_meal_plan  required_car_parking_space  \\\n",
       "Booking_ID                                                                    \n",
       "INN00001                    2       Meal Plan 1                           0   \n",
       "INN00002                    3      Not Selected                           0   \n",
       "INN00003                    1       Meal Plan 1                           0   \n",
       "INN00004                    2       Meal Plan 1                           0   \n",
       "INN00005                    1      Not Selected                           0   \n",
       "\n",
       "           room_type_reserved  lead_time  arrival_year  arrival_month  \\\n",
       "Booking_ID                                                              \n",
       "INN00001          Room_Type 1        224          2017             10   \n",
       "INN00002          Room_Type 1          5          2018             11   \n",
       "INN00003          Room_Type 1          1          2018              2   \n",
       "INN00004          Room_Type 1        211          2018              5   \n",
       "INN00005          Room_Type 1         48          2018              4   \n",
       "\n",
       "            arrival_date market_segment_type  repeated_guest  \\\n",
       "Booking_ID                                                     \n",
       "INN00001               2             Offline               0   \n",
       "INN00002               6              Online               0   \n",
       "INN00003              28              Online               0   \n",
       "INN00004              20              Online               0   \n",
       "INN00005              11              Online               0   \n",
       "\n",
       "            no_of_previous_cancellations  \\\n",
       "Booking_ID                                 \n",
       "INN00001                               0   \n",
       "INN00002                               0   \n",
       "INN00003                               0   \n",
       "INN00004                               0   \n",
       "INN00005                               0   \n",
       "\n",
       "            no_of_previous_bookings_not_canceled  avg_price_per_room  \\\n",
       "Booking_ID                                                             \n",
       "INN00001                                       0               65.00   \n",
       "INN00002                                       0              106.68   \n",
       "INN00003                                       0               60.00   \n",
       "INN00004                                       0              100.00   \n",
       "INN00005                                       0               94.50   \n",
       "\n",
       "            no_of_special_requests booking_status  \n",
       "Booking_ID                                         \n",
       "INN00001                         0   Not_Canceled  \n",
       "INN00002                         1   Not_Canceled  \n",
       "INN00003                         0       Canceled  \n",
       "INN00004                         0       Canceled  \n",
       "INN00005                         0       Canceled  "
      ]
     },
     "execution_count": 4,
     "metadata": {},
     "output_type": "execute_result"
    }
   ],
   "source": [
    "df.head()"
   ]
  },
  {
   "cell_type": "code",
   "execution_count": 5,
   "metadata": {},
   "outputs": [
    {
     "data": {
      "text/plain": [
       "(36275, 18)"
      ]
     },
     "execution_count": 5,
     "metadata": {},
     "output_type": "execute_result"
    }
   ],
   "source": [
    "df.shape"
   ]
  },
  {
   "cell_type": "code",
   "execution_count": 6,
   "metadata": {},
   "outputs": [
    {
     "data": {
      "text/html": [
       "<div>\n",
       "<style scoped>\n",
       "    .dataframe tbody tr th:only-of-type {\n",
       "        vertical-align: middle;\n",
       "    }\n",
       "\n",
       "    .dataframe tbody tr th {\n",
       "        vertical-align: top;\n",
       "    }\n",
       "\n",
       "    .dataframe thead th {\n",
       "        text-align: right;\n",
       "    }\n",
       "</style>\n",
       "<table border=\"1\" class=\"dataframe\">\n",
       "  <thead>\n",
       "    <tr style=\"text-align: right;\">\n",
       "      <th></th>\n",
       "      <th>no_of_adults</th>\n",
       "      <th>no_of_children</th>\n",
       "      <th>no_of_weekend_nights</th>\n",
       "      <th>no_of_week_nights</th>\n",
       "      <th>type_of_meal_plan</th>\n",
       "      <th>required_car_parking_space</th>\n",
       "      <th>room_type_reserved</th>\n",
       "      <th>lead_time</th>\n",
       "      <th>arrival_year</th>\n",
       "      <th>arrival_month</th>\n",
       "      <th>arrival_date</th>\n",
       "      <th>market_segment_type</th>\n",
       "      <th>repeated_guest</th>\n",
       "      <th>no_of_previous_cancellations</th>\n",
       "      <th>no_of_previous_bookings_not_canceled</th>\n",
       "      <th>avg_price_per_room</th>\n",
       "      <th>no_of_special_requests</th>\n",
       "      <th>booking_status</th>\n",
       "    </tr>\n",
       "  </thead>\n",
       "  <tbody>\n",
       "    <tr>\n",
       "      <th>count</th>\n",
       "      <td>36275.000000</td>\n",
       "      <td>36275.000000</td>\n",
       "      <td>36275.000000</td>\n",
       "      <td>36275.000000</td>\n",
       "      <td>36275</td>\n",
       "      <td>36275.000000</td>\n",
       "      <td>36275</td>\n",
       "      <td>36275.000000</td>\n",
       "      <td>36275.000000</td>\n",
       "      <td>36275.000000</td>\n",
       "      <td>36275.000000</td>\n",
       "      <td>36275</td>\n",
       "      <td>36275.000000</td>\n",
       "      <td>36275.000000</td>\n",
       "      <td>36275.000000</td>\n",
       "      <td>36275.000000</td>\n",
       "      <td>36275.000000</td>\n",
       "      <td>36275</td>\n",
       "    </tr>\n",
       "    <tr>\n",
       "      <th>unique</th>\n",
       "      <td>NaN</td>\n",
       "      <td>NaN</td>\n",
       "      <td>NaN</td>\n",
       "      <td>NaN</td>\n",
       "      <td>4</td>\n",
       "      <td>NaN</td>\n",
       "      <td>7</td>\n",
       "      <td>NaN</td>\n",
       "      <td>NaN</td>\n",
       "      <td>NaN</td>\n",
       "      <td>NaN</td>\n",
       "      <td>5</td>\n",
       "      <td>NaN</td>\n",
       "      <td>NaN</td>\n",
       "      <td>NaN</td>\n",
       "      <td>NaN</td>\n",
       "      <td>NaN</td>\n",
       "      <td>2</td>\n",
       "    </tr>\n",
       "    <tr>\n",
       "      <th>top</th>\n",
       "      <td>NaN</td>\n",
       "      <td>NaN</td>\n",
       "      <td>NaN</td>\n",
       "      <td>NaN</td>\n",
       "      <td>Meal Plan 1</td>\n",
       "      <td>NaN</td>\n",
       "      <td>Room_Type 1</td>\n",
       "      <td>NaN</td>\n",
       "      <td>NaN</td>\n",
       "      <td>NaN</td>\n",
       "      <td>NaN</td>\n",
       "      <td>Online</td>\n",
       "      <td>NaN</td>\n",
       "      <td>NaN</td>\n",
       "      <td>NaN</td>\n",
       "      <td>NaN</td>\n",
       "      <td>NaN</td>\n",
       "      <td>Not_Canceled</td>\n",
       "    </tr>\n",
       "    <tr>\n",
       "      <th>freq</th>\n",
       "      <td>NaN</td>\n",
       "      <td>NaN</td>\n",
       "      <td>NaN</td>\n",
       "      <td>NaN</td>\n",
       "      <td>27835</td>\n",
       "      <td>NaN</td>\n",
       "      <td>28130</td>\n",
       "      <td>NaN</td>\n",
       "      <td>NaN</td>\n",
       "      <td>NaN</td>\n",
       "      <td>NaN</td>\n",
       "      <td>23214</td>\n",
       "      <td>NaN</td>\n",
       "      <td>NaN</td>\n",
       "      <td>NaN</td>\n",
       "      <td>NaN</td>\n",
       "      <td>NaN</td>\n",
       "      <td>24390</td>\n",
       "    </tr>\n",
       "    <tr>\n",
       "      <th>mean</th>\n",
       "      <td>1.844962</td>\n",
       "      <td>0.105279</td>\n",
       "      <td>0.810724</td>\n",
       "      <td>2.204300</td>\n",
       "      <td>NaN</td>\n",
       "      <td>0.030986</td>\n",
       "      <td>NaN</td>\n",
       "      <td>85.232557</td>\n",
       "      <td>2017.820427</td>\n",
       "      <td>7.423653</td>\n",
       "      <td>15.596995</td>\n",
       "      <td>NaN</td>\n",
       "      <td>0.025637</td>\n",
       "      <td>0.023349</td>\n",
       "      <td>0.153411</td>\n",
       "      <td>103.423539</td>\n",
       "      <td>0.619655</td>\n",
       "      <td>NaN</td>\n",
       "    </tr>\n",
       "    <tr>\n",
       "      <th>std</th>\n",
       "      <td>0.518715</td>\n",
       "      <td>0.402648</td>\n",
       "      <td>0.870644</td>\n",
       "      <td>1.410905</td>\n",
       "      <td>NaN</td>\n",
       "      <td>0.173281</td>\n",
       "      <td>NaN</td>\n",
       "      <td>85.930817</td>\n",
       "      <td>0.383836</td>\n",
       "      <td>3.069894</td>\n",
       "      <td>8.740447</td>\n",
       "      <td>NaN</td>\n",
       "      <td>0.158053</td>\n",
       "      <td>0.368331</td>\n",
       "      <td>1.754171</td>\n",
       "      <td>35.089424</td>\n",
       "      <td>0.786236</td>\n",
       "      <td>NaN</td>\n",
       "    </tr>\n",
       "    <tr>\n",
       "      <th>min</th>\n",
       "      <td>0.000000</td>\n",
       "      <td>0.000000</td>\n",
       "      <td>0.000000</td>\n",
       "      <td>0.000000</td>\n",
       "      <td>NaN</td>\n",
       "      <td>0.000000</td>\n",
       "      <td>NaN</td>\n",
       "      <td>0.000000</td>\n",
       "      <td>2017.000000</td>\n",
       "      <td>1.000000</td>\n",
       "      <td>1.000000</td>\n",
       "      <td>NaN</td>\n",
       "      <td>0.000000</td>\n",
       "      <td>0.000000</td>\n",
       "      <td>0.000000</td>\n",
       "      <td>0.000000</td>\n",
       "      <td>0.000000</td>\n",
       "      <td>NaN</td>\n",
       "    </tr>\n",
       "    <tr>\n",
       "      <th>25%</th>\n",
       "      <td>2.000000</td>\n",
       "      <td>0.000000</td>\n",
       "      <td>0.000000</td>\n",
       "      <td>1.000000</td>\n",
       "      <td>NaN</td>\n",
       "      <td>0.000000</td>\n",
       "      <td>NaN</td>\n",
       "      <td>17.000000</td>\n",
       "      <td>2018.000000</td>\n",
       "      <td>5.000000</td>\n",
       "      <td>8.000000</td>\n",
       "      <td>NaN</td>\n",
       "      <td>0.000000</td>\n",
       "      <td>0.000000</td>\n",
       "      <td>0.000000</td>\n",
       "      <td>80.300000</td>\n",
       "      <td>0.000000</td>\n",
       "      <td>NaN</td>\n",
       "    </tr>\n",
       "    <tr>\n",
       "      <th>50%</th>\n",
       "      <td>2.000000</td>\n",
       "      <td>0.000000</td>\n",
       "      <td>1.000000</td>\n",
       "      <td>2.000000</td>\n",
       "      <td>NaN</td>\n",
       "      <td>0.000000</td>\n",
       "      <td>NaN</td>\n",
       "      <td>57.000000</td>\n",
       "      <td>2018.000000</td>\n",
       "      <td>8.000000</td>\n",
       "      <td>16.000000</td>\n",
       "      <td>NaN</td>\n",
       "      <td>0.000000</td>\n",
       "      <td>0.000000</td>\n",
       "      <td>0.000000</td>\n",
       "      <td>99.450000</td>\n",
       "      <td>0.000000</td>\n",
       "      <td>NaN</td>\n",
       "    </tr>\n",
       "    <tr>\n",
       "      <th>75%</th>\n",
       "      <td>2.000000</td>\n",
       "      <td>0.000000</td>\n",
       "      <td>2.000000</td>\n",
       "      <td>3.000000</td>\n",
       "      <td>NaN</td>\n",
       "      <td>0.000000</td>\n",
       "      <td>NaN</td>\n",
       "      <td>126.000000</td>\n",
       "      <td>2018.000000</td>\n",
       "      <td>10.000000</td>\n",
       "      <td>23.000000</td>\n",
       "      <td>NaN</td>\n",
       "      <td>0.000000</td>\n",
       "      <td>0.000000</td>\n",
       "      <td>0.000000</td>\n",
       "      <td>120.000000</td>\n",
       "      <td>1.000000</td>\n",
       "      <td>NaN</td>\n",
       "    </tr>\n",
       "    <tr>\n",
       "      <th>max</th>\n",
       "      <td>4.000000</td>\n",
       "      <td>10.000000</td>\n",
       "      <td>7.000000</td>\n",
       "      <td>17.000000</td>\n",
       "      <td>NaN</td>\n",
       "      <td>1.000000</td>\n",
       "      <td>NaN</td>\n",
       "      <td>443.000000</td>\n",
       "      <td>2018.000000</td>\n",
       "      <td>12.000000</td>\n",
       "      <td>31.000000</td>\n",
       "      <td>NaN</td>\n",
       "      <td>1.000000</td>\n",
       "      <td>13.000000</td>\n",
       "      <td>58.000000</td>\n",
       "      <td>540.000000</td>\n",
       "      <td>5.000000</td>\n",
       "      <td>NaN</td>\n",
       "    </tr>\n",
       "  </tbody>\n",
       "</table>\n",
       "</div>"
      ],
      "text/plain": [
       "        no_of_adults  no_of_children  no_of_weekend_nights  no_of_week_nights  \\\n",
       "count   36275.000000    36275.000000          36275.000000       36275.000000   \n",
       "unique           NaN             NaN                   NaN                NaN   \n",
       "top              NaN             NaN                   NaN                NaN   \n",
       "freq             NaN             NaN                   NaN                NaN   \n",
       "mean        1.844962        0.105279              0.810724           2.204300   \n",
       "std         0.518715        0.402648              0.870644           1.410905   \n",
       "min         0.000000        0.000000              0.000000           0.000000   \n",
       "25%         2.000000        0.000000              0.000000           1.000000   \n",
       "50%         2.000000        0.000000              1.000000           2.000000   \n",
       "75%         2.000000        0.000000              2.000000           3.000000   \n",
       "max         4.000000       10.000000              7.000000          17.000000   \n",
       "\n",
       "       type_of_meal_plan  required_car_parking_space room_type_reserved  \\\n",
       "count              36275                36275.000000              36275   \n",
       "unique                 4                         NaN                  7   \n",
       "top          Meal Plan 1                         NaN        Room_Type 1   \n",
       "freq               27835                         NaN              28130   \n",
       "mean                 NaN                    0.030986                NaN   \n",
       "std                  NaN                    0.173281                NaN   \n",
       "min                  NaN                    0.000000                NaN   \n",
       "25%                  NaN                    0.000000                NaN   \n",
       "50%                  NaN                    0.000000                NaN   \n",
       "75%                  NaN                    0.000000                NaN   \n",
       "max                  NaN                    1.000000                NaN   \n",
       "\n",
       "           lead_time  arrival_year  arrival_month  arrival_date  \\\n",
       "count   36275.000000  36275.000000   36275.000000  36275.000000   \n",
       "unique           NaN           NaN            NaN           NaN   \n",
       "top              NaN           NaN            NaN           NaN   \n",
       "freq             NaN           NaN            NaN           NaN   \n",
       "mean       85.232557   2017.820427       7.423653     15.596995   \n",
       "std        85.930817      0.383836       3.069894      8.740447   \n",
       "min         0.000000   2017.000000       1.000000      1.000000   \n",
       "25%        17.000000   2018.000000       5.000000      8.000000   \n",
       "50%        57.000000   2018.000000       8.000000     16.000000   \n",
       "75%       126.000000   2018.000000      10.000000     23.000000   \n",
       "max       443.000000   2018.000000      12.000000     31.000000   \n",
       "\n",
       "       market_segment_type  repeated_guest  no_of_previous_cancellations  \\\n",
       "count                36275    36275.000000                  36275.000000   \n",
       "unique                   5             NaN                           NaN   \n",
       "top                 Online             NaN                           NaN   \n",
       "freq                 23214             NaN                           NaN   \n",
       "mean                   NaN        0.025637                      0.023349   \n",
       "std                    NaN        0.158053                      0.368331   \n",
       "min                    NaN        0.000000                      0.000000   \n",
       "25%                    NaN        0.000000                      0.000000   \n",
       "50%                    NaN        0.000000                      0.000000   \n",
       "75%                    NaN        0.000000                      0.000000   \n",
       "max                    NaN        1.000000                     13.000000   \n",
       "\n",
       "        no_of_previous_bookings_not_canceled  avg_price_per_room  \\\n",
       "count                           36275.000000        36275.000000   \n",
       "unique                                   NaN                 NaN   \n",
       "top                                      NaN                 NaN   \n",
       "freq                                     NaN                 NaN   \n",
       "mean                                0.153411          103.423539   \n",
       "std                                 1.754171           35.089424   \n",
       "min                                 0.000000            0.000000   \n",
       "25%                                 0.000000           80.300000   \n",
       "50%                                 0.000000           99.450000   \n",
       "75%                                 0.000000          120.000000   \n",
       "max                                58.000000          540.000000   \n",
       "\n",
       "        no_of_special_requests booking_status  \n",
       "count             36275.000000          36275  \n",
       "unique                     NaN              2  \n",
       "top                        NaN   Not_Canceled  \n",
       "freq                       NaN          24390  \n",
       "mean                  0.619655            NaN  \n",
       "std                   0.786236            NaN  \n",
       "min                   0.000000            NaN  \n",
       "25%                   0.000000            NaN  \n",
       "50%                   0.000000            NaN  \n",
       "75%                   1.000000            NaN  \n",
       "max                   5.000000            NaN  "
      ]
     },
     "execution_count": 6,
     "metadata": {},
     "output_type": "execute_result"
    }
   ],
   "source": [
    "df.describe(include='all')"
   ]
  },
  {
   "cell_type": "code",
   "execution_count": 7,
   "metadata": {},
   "outputs": [
    {
     "data": {
      "text/plain": [
       "no_of_adults                              int64\n",
       "no_of_children                            int64\n",
       "no_of_weekend_nights                      int64\n",
       "no_of_week_nights                         int64\n",
       "type_of_meal_plan                        object\n",
       "required_car_parking_space                int64\n",
       "room_type_reserved                       object\n",
       "lead_time                                 int64\n",
       "arrival_year                              int64\n",
       "arrival_month                             int64\n",
       "arrival_date                              int64\n",
       "market_segment_type                      object\n",
       "repeated_guest                            int64\n",
       "no_of_previous_cancellations              int64\n",
       "no_of_previous_bookings_not_canceled      int64\n",
       "avg_price_per_room                      float64\n",
       "no_of_special_requests                    int64\n",
       "booking_status                           object\n",
       "dtype: object"
      ]
     },
     "execution_count": 7,
     "metadata": {},
     "output_type": "execute_result"
    }
   ],
   "source": [
    "df.dtypes"
   ]
  },
  {
   "cell_type": "code",
   "execution_count": 8,
   "metadata": {},
   "outputs": [
    {
     "data": {
      "text/plain": [
       "no_of_adults                            0\n",
       "no_of_children                          0\n",
       "no_of_weekend_nights                    0\n",
       "no_of_week_nights                       0\n",
       "type_of_meal_plan                       0\n",
       "required_car_parking_space              0\n",
       "room_type_reserved                      0\n",
       "lead_time                               0\n",
       "arrival_year                            0\n",
       "arrival_month                           0\n",
       "arrival_date                            0\n",
       "market_segment_type                     0\n",
       "repeated_guest                          0\n",
       "no_of_previous_cancellations            0\n",
       "no_of_previous_bookings_not_canceled    0\n",
       "avg_price_per_room                      0\n",
       "no_of_special_requests                  0\n",
       "booking_status                          0\n",
       "dtype: int64"
      ]
     },
     "execution_count": 8,
     "metadata": {},
     "output_type": "execute_result"
    }
   ],
   "source": [
    "df.isnull().sum()"
   ]
  },
  {
   "cell_type": "code",
   "execution_count": 9,
   "metadata": {},
   "outputs": [
    {
     "data": {
      "text/plain": [
       "Index(['no_of_adults', 'no_of_children', 'no_of_weekend_nights',\n",
       "       'no_of_week_nights', 'type_of_meal_plan', 'required_car_parking_space',\n",
       "       'room_type_reserved', 'lead_time', 'arrival_year', 'arrival_month',\n",
       "       'arrival_date', 'market_segment_type', 'repeated_guest',\n",
       "       'no_of_previous_cancellations', 'no_of_previous_bookings_not_canceled',\n",
       "       'avg_price_per_room', 'no_of_special_requests', 'booking_status'],\n",
       "      dtype='object')"
      ]
     },
     "execution_count": 9,
     "metadata": {},
     "output_type": "execute_result"
    }
   ],
   "source": [
    "colname=df.columns\n",
    "colname"
   ]
  },
  {
   "cell_type": "markdown",
   "metadata": {},
   "source": [
    "# EDA"
   ]
  },
  {
   "cell_type": "code",
   "execution_count": 10,
   "metadata": {},
   "outputs": [
    {
     "data": {
      "text/plain": [
       "Not_Canceled    24390\n",
       "Canceled        11885\n",
       "Name: booking_status, dtype: int64"
      ]
     },
     "execution_count": 10,
     "metadata": {},
     "output_type": "execute_result"
    }
   ],
   "source": [
    "df['booking_status'].value_counts()"
   ]
  },
  {
   "cell_type": "code",
   "execution_count": 11,
   "metadata": {
    "scrolled": true
   },
   "outputs": [
    {
     "data": {
      "text/plain": [
       "<matplotlib.axes._subplots.AxesSubplot at 0x25201069fc8>"
      ]
     },
     "execution_count": 11,
     "metadata": {},
     "output_type": "execute_result"
    },
    {
     "data": {
      "image/png": "[encoded data removed]",
      "text/plain": [
       "<Figure size 432x288 with 1 Axes>"
      ]
     },
     "metadata": {
      "needs_background": "light"
     },
     "output_type": "display_data"
    }
   ],
   "source": [
    "df['booking_status'].value_counts().plot(kind='bar', color=['green', 'red'])"
   ]
  },
  {
   "cell_type": "markdown",
   "metadata": {},
   "source": [
    "# Categorical Columns "
   ]
  },
  {
   "cell_type": "markdown",
   "metadata": {},
   "source": [
    " a - type_of_meal_plan"
   ]
  },
  {
   "cell_type": "code",
   "execution_count": 12,
   "metadata": {},
   "outputs": [
    {
     "data": {
      "text/plain": [
       "Meal Plan 1     27835\n",
       "Not Selected     5130\n",
       "Meal Plan 2      3305\n",
       "Meal Plan 3         5\n",
       "Name: type_of_meal_plan, dtype: int64"
      ]
     },
     "execution_count": 12,
     "metadata": {},
     "output_type": "execute_result"
    }
   ],
   "source": [
    "df['type_of_meal_plan'].value_counts()"
   ]
  },
  {
   "cell_type": "code",
   "execution_count": 13,
   "metadata": {
    "scrolled": true
   },
   "outputs": [
    {
     "data": {
      "image/png": "[encoded data removed]",
      "text/plain": [
       "<Figure size 432x288 with 1 Axes>"
      ]
     },
     "metadata": {
      "needs_background": "light"
     },
     "output_type": "display_data"
    }
   ],
   "source": [
    "df['type_of_meal_plan'].value_counts().plot(kind='bar')\n",
    "plt.xlabel('type_of_meal_plan')\n",
    "plt.ylabel('Reservations ')\n",
    "plt.title('type_of_meal_plan')\n",
    "plt.xticks(rotation=45)\n",
    "plt.show()"
   ]
  },
  {
   "cell_type": "markdown",
   "metadata": {},
   "source": [
    "b-  room_type_reserved"
   ]
  },
  {
   "cell_type": "code",
   "execution_count": 14,
   "metadata": {},
   "outputs": [
    {
     "data": {
      "text/plain": [
       "Room_Type 1    28130\n",
       "Room_Type 4     6057\n",
       "Room_Type 6      966\n",
       "Room_Type 2      692\n",
       "Room_Type 5      265\n",
       "Room_Type 7      158\n",
       "Room_Type 3        7\n",
       "Name: room_type_reserved, dtype: int64"
      ]
     },
     "execution_count": 14,
     "metadata": {},
     "output_type": "execute_result"
    }
   ],
   "source": [
    "df['room_type_reserved'].value_counts()"
   ]
  },
  {
   "cell_type": "code",
   "execution_count": 15,
   "metadata": {
    "scrolled": true
   },
   "outputs": [
    {
     "data": {
      "image/png": "[encoded data removed]",
      "text/plain": [
       "<Figure size 432x288 with 1 Axes>"
      ]
     },
     "metadata": {
      "needs_background": "light"
     },
     "output_type": "display_data"
    }
   ],
   "source": [
    "df['room_type_reserved'].value_counts().plot(kind='bar')\n",
    "plt.xlabel('room_type_reserved')\n",
    "plt.ylabel('Reservations ')\n",
    "plt.title('Room_type_reserved')\n",
    "plt.xticks(rotation=45)\n",
    "plt.show()"
   ]
  },
  {
   "cell_type": "markdown",
   "metadata": {},
   "source": [
    "c- market_segment_type"
   ]
  },
  {
   "cell_type": "code",
   "execution_count": 16,
   "metadata": {},
   "outputs": [
    {
     "data": {
      "text/plain": [
       "Online           23214\n",
       "Offline          10528\n",
       "Corporate         2017\n",
       "Complementary      391\n",
       "Aviation           125\n",
       "Name: market_segment_type, dtype: int64"
      ]
     },
     "execution_count": 16,
     "metadata": {},
     "output_type": "execute_result"
    }
   ],
   "source": [
    "df['market_segment_type'].value_counts()"
   ]
  },
  {
   "cell_type": "code",
   "execution_count": 17,
   "metadata": {
    "scrolled": true
   },
   "outputs": [
    {
     "data": {
      "image/png": "[encoded data removed]",
      "text/plain": [
       "<Figure size 432x288 with 1 Axes>"
      ]
     },
     "metadata": {
      "needs_background": "light"
     },
     "output_type": "display_data"
    }
   ],
   "source": [
    "df['market_segment_type'].value_counts().plot(kind='bar')\n",
    "plt.xlabel('market_segment_type')\n",
    "plt.ylabel('Reservations ')\n",
    "plt.title('market_segment_type')\n",
    "plt.xticks(rotation=45)\n",
    "plt.show()"
   ]
  },
  {
   "cell_type": "markdown",
   "metadata": {},
   "source": [
    "# Numerical Variables"
   ]
  },
  {
   "cell_type": "raw",
   "metadata": {},
   "source": [
    " Guests by age (columns: 'no_of_adults', 'no_of_children')"
   ]
  },
  {
   "cell_type": "code",
   "execution_count": 18,
   "metadata": {
    "scrolled": true
   },
   "outputs": [
    {
     "data": {
      "text/plain": [
       "2    26108\n",
       "1     7695\n",
       "3     2317\n",
       "0      139\n",
       "4       16\n",
       "Name: no_of_adults, dtype: int64"
      ]
     },
     "execution_count": 18,
     "metadata": {},
     "output_type": "execute_result"
    }
   ],
   "source": [
    "df['no_of_adults'].value_counts()"
   ]
  },
  {
   "cell_type": "code",
   "execution_count": 19,
   "metadata": {},
   "outputs": [
    {
     "data": {
      "image/png": "[encoded data removed]",
      "text/plain": [
       "<Figure size 432x288 with 1 Axes>"
      ]
     },
     "metadata": {
      "needs_background": "light"
     },
     "output_type": "display_data"
    }
   ],
   "source": [
    "df['no_of_adults'].value_counts().plot(kind='bar')\n",
    "plt.xlabel('no_of_adults')\n",
    "plt.ylabel('Reservations ')\n",
    "plt.title('no_of_adults')\n",
    "plt.xticks(rotation=45)\n",
    "plt.show()"
   ]
  },
  {
   "cell_type": "code",
   "execution_count": 20,
   "metadata": {
    "scrolled": false
   },
   "outputs": [
    {
     "data": {
      "text/plain": [
       "0     33577\n",
       "1      1618\n",
       "2      1058\n",
       "3        19\n",
       "9         2\n",
       "10        1\n",
       "Name: no_of_children, dtype: int64"
      ]
     },
     "execution_count": 20,
     "metadata": {},
     "output_type": "execute_result"
    }
   ],
   "source": [
    "df['no_of_children'].value_counts()"
   ]
  },
  {
   "cell_type": "code",
   "execution_count": 21,
   "metadata": {},
   "outputs": [
    {
     "data": {
      "image/png": "[encoded data removed]",
      "text/plain": [
       "<Figure size 432x288 with 1 Axes>"
      ]
     },
     "metadata": {
      "needs_background": "light"
     },
     "output_type": "display_data"
    }
   ],
   "source": [
    "df['no_of_children'].value_counts().plot(kind='bar')\n",
    "plt.xlabel('no_of_children')\n",
    "plt.ylabel('Reservations ')\n",
    "plt.title('no_of_children')\n",
    "plt.xticks(rotation=45)\n",
    "plt.show()"
   ]
  },
  {
   "cell_type": "code",
   "execution_count": 22,
   "metadata": {
    "scrolled": true
   },
   "outputs": [
    {
     "data": {
      "text/html": [
       "<div>\n",
       "<style scoped>\n",
       "    .dataframe tbody tr th:only-of-type {\n",
       "        vertical-align: middle;\n",
       "    }\n",
       "\n",
       "    .dataframe tbody tr th {\n",
       "        vertical-align: top;\n",
       "    }\n",
       "\n",
       "    .dataframe thead th {\n",
       "        text-align: right;\n",
       "    }\n",
       "</style>\n",
       "<table border=\"1\" class=\"dataframe\">\n",
       "  <thead>\n",
       "    <tr style=\"text-align: right;\">\n",
       "      <th></th>\n",
       "      <th>no_of_adults</th>\n",
       "      <th>no_of_children</th>\n",
       "      <th>no_of_weekend_nights</th>\n",
       "      <th>no_of_week_nights</th>\n",
       "      <th>type_of_meal_plan</th>\n",
       "      <th>required_car_parking_space</th>\n",
       "      <th>room_type_reserved</th>\n",
       "      <th>lead_time</th>\n",
       "      <th>arrival_year</th>\n",
       "      <th>arrival_month</th>\n",
       "      <th>arrival_date</th>\n",
       "      <th>market_segment_type</th>\n",
       "      <th>repeated_guest</th>\n",
       "      <th>no_of_previous_cancellations</th>\n",
       "      <th>no_of_previous_bookings_not_canceled</th>\n",
       "      <th>avg_price_per_room</th>\n",
       "      <th>no_of_special_requests</th>\n",
       "      <th>booking_status</th>\n",
       "    </tr>\n",
       "    <tr>\n",
       "      <th>Booking_ID</th>\n",
       "      <th></th>\n",
       "      <th></th>\n",
       "      <th></th>\n",
       "      <th></th>\n",
       "      <th></th>\n",
       "      <th></th>\n",
       "      <th></th>\n",
       "      <th></th>\n",
       "      <th></th>\n",
       "      <th></th>\n",
       "      <th></th>\n",
       "      <th></th>\n",
       "      <th></th>\n",
       "      <th></th>\n",
       "      <th></th>\n",
       "      <th></th>\n",
       "      <th></th>\n",
       "      <th></th>\n",
       "    </tr>\n",
       "  </thead>\n",
       "  <tbody>\n",
       "    <tr>\n",
       "      <th>INN06339</th>\n",
       "      <td>2</td>\n",
       "      <td>10</td>\n",
       "      <td>0</td>\n",
       "      <td>2</td>\n",
       "      <td>Meal Plan 1</td>\n",
       "      <td>0</td>\n",
       "      <td>Room_Type 4</td>\n",
       "      <td>37</td>\n",
       "      <td>2018</td>\n",
       "      <td>1</td>\n",
       "      <td>12</td>\n",
       "      <td>Online</td>\n",
       "      <td>0</td>\n",
       "      <td>0</td>\n",
       "      <td>0</td>\n",
       "      <td>84.45</td>\n",
       "      <td>1</td>\n",
       "      <td>Not_Canceled</td>\n",
       "    </tr>\n",
       "    <tr>\n",
       "      <th>INN10042</th>\n",
       "      <td>1</td>\n",
       "      <td>9</td>\n",
       "      <td>2</td>\n",
       "      <td>1</td>\n",
       "      <td>Meal Plan 1</td>\n",
       "      <td>0</td>\n",
       "      <td>Room_Type 1</td>\n",
       "      <td>11</td>\n",
       "      <td>2017</td>\n",
       "      <td>10</td>\n",
       "      <td>11</td>\n",
       "      <td>Corporate</td>\n",
       "      <td>0</td>\n",
       "      <td>0</td>\n",
       "      <td>0</td>\n",
       "      <td>95.00</td>\n",
       "      <td>0</td>\n",
       "      <td>Not_Canceled</td>\n",
       "    </tr>\n",
       "    <tr>\n",
       "      <th>INN10062</th>\n",
       "      <td>2</td>\n",
       "      <td>9</td>\n",
       "      <td>2</td>\n",
       "      <td>5</td>\n",
       "      <td>Meal Plan 1</td>\n",
       "      <td>0</td>\n",
       "      <td>Room_Type 2</td>\n",
       "      <td>8</td>\n",
       "      <td>2017</td>\n",
       "      <td>8</td>\n",
       "      <td>13</td>\n",
       "      <td>Online</td>\n",
       "      <td>0</td>\n",
       "      <td>0</td>\n",
       "      <td>0</td>\n",
       "      <td>76.50</td>\n",
       "      <td>1</td>\n",
       "      <td>Canceled</td>\n",
       "    </tr>\n",
       "  </tbody>\n",
       "</table>\n",
       "</div>"
      ],
      "text/plain": [
       "            no_of_adults  no_of_children  no_of_weekend_nights  \\\n",
       "Booking_ID                                                       \n",
       "INN06339               2              10                     0   \n",
       "INN10042               1               9                     2   \n",
       "INN10062               2               9                     2   \n",
       "\n",
       "            no_of_week_nights type_of_meal_plan  required_car_parking_space  \\\n",
       "Booking_ID                                                                    \n",
       "INN06339                    2       Meal Plan 1                           0   \n",
       "INN10042                    1       Meal Plan 1                           0   \n",
       "INN10062                    5       Meal Plan 1                           0   \n",
       "\n",
       "           room_type_reserved  lead_time  arrival_year  arrival_month  \\\n",
       "Booking_ID                                                              \n",
       "INN06339          Room_Type 4         37          2018              1   \n",
       "INN10042          Room_Type 1         11          2017             10   \n",
       "INN10062          Room_Type 2          8          2017              8   \n",
       "\n",
       "            arrival_date market_segment_type  repeated_guest  \\\n",
       "Booking_ID                                                     \n",
       "INN06339              12              Online               0   \n",
       "INN10042              11           Corporate               0   \n",
       "INN10062              13              Online               0   \n",
       "\n",
       "            no_of_previous_cancellations  \\\n",
       "Booking_ID                                 \n",
       "INN06339                               0   \n",
       "INN10042                               0   \n",
       "INN10062                               0   \n",
       "\n",
       "            no_of_previous_bookings_not_canceled  avg_price_per_room  \\\n",
       "Booking_ID                                                             \n",
       "INN06339                                       0               84.45   \n",
       "INN10042                                       0               95.00   \n",
       "INN10062                                       0               76.50   \n",
       "\n",
       "            no_of_special_requests booking_status  \n",
       "Booking_ID                                         \n",
       "INN06339                         1   Not_Canceled  \n",
       "INN10042                         0   Not_Canceled  \n",
       "INN10062                         1       Canceled  "
      ]
     },
     "execution_count": 22,
     "metadata": {},
     "output_type": "execute_result"
    }
   ],
   "source": [
    "# Checking the reservations that appears a little extrange (9 and 10 childrens)\n",
    "\n",
    "df.loc[df['no_of_children'] > 8]"
   ]
  },
  {
   "cell_type": "raw",
   "metadata": {},
   "source": [
    "- Distribution by day of the week (columns: 'no_of_weekend_nights', 'no_of_week_nights')"
   ]
  },
  {
   "cell_type": "code",
   "execution_count": 23,
   "metadata": {
    "scrolled": false
   },
   "outputs": [
    {
     "data": {
      "text/plain": [
       "0    16872\n",
       "1     9995\n",
       "2     9071\n",
       "3      153\n",
       "4      129\n",
       "5       34\n",
       "6       20\n",
       "7        1\n",
       "Name: no_of_weekend_nights, dtype: int64"
      ]
     },
     "execution_count": 23,
     "metadata": {},
     "output_type": "execute_result"
    }
   ],
   "source": [
    "df['no_of_weekend_nights'].value_counts()"
   ]
  },
  {
   "cell_type": "code",
   "execution_count": 24,
   "metadata": {},
   "outputs": [
    {
     "data": {
      "image/png": "[encoded data removed]",
      "text/plain": [
       "<Figure size 432x288 with 1 Axes>"
      ]
     },
     "metadata": {
      "needs_background": "light"
     },
     "output_type": "display_data"
    }
   ],
   "source": [
    "df['no_of_weekend_nights'].value_counts().plot(kind='bar')\n",
    "plt.xlabel('no_of_weekend_nights')\n",
    "plt.ylabel('Reservations ')\n",
    "plt.title('no_of_weekend_nights')\n",
    "plt.xticks(rotation=45)\n",
    "plt.show()"
   ]
  },
  {
   "cell_type": "code",
   "execution_count": 25,
   "metadata": {
    "scrolled": true
   },
   "outputs": [
    {
     "data": {
      "text/plain": [
       "2     11444\n",
       "1      9488\n",
       "3      7839\n",
       "4      2990\n",
       "0      2387\n",
       "5      1614\n",
       "6       189\n",
       "7       113\n",
       "8        62\n",
       "10       62\n",
       "9        34\n",
       "11       17\n",
       "15       10\n",
       "12        9\n",
       "14        7\n",
       "13        5\n",
       "17        3\n",
       "16        2\n",
       "Name: no_of_week_nights, dtype: int64"
      ]
     },
     "execution_count": 25,
     "metadata": {},
     "output_type": "execute_result"
    }
   ],
   "source": [
    "df['no_of_week_nights'].value_counts()"
   ]
  },
  {
   "cell_type": "code",
   "execution_count": 26,
   "metadata": {},
   "outputs": [
    {
     "data": {
      "image/png": "[encoded data removed]",
      "text/plain": [
       "<Figure size 432x288 with 1 Axes>"
      ]
     },
     "metadata": {
      "needs_background": "light"
     },
     "output_type": "display_data"
    }
   ],
   "source": [
    "df['no_of_week_nights'].value_counts().plot(kind='bar')\n",
    "plt.xlabel('no_of_week_nights')\n",
    "plt.ylabel('Reservations ')\n",
    "plt.title('no_of_week_nights')\n",
    "plt.xticks(rotation=45)\n",
    "plt.show()"
   ]
  },
  {
   "cell_type": "raw",
   "metadata": {},
   "source": [
    "Let's take a look at the parking needed by the guests"
   ]
  },
  {
   "cell_type": "code",
   "execution_count": 27,
   "metadata": {},
   "outputs": [
    {
     "data": {
      "text/plain": [
       "<matplotlib.axes._subplots.AxesSubplot at 0x252014cabc8>"
      ]
     },
     "execution_count": 27,
     "metadata": {},
     "output_type": "execute_result"
    },
    {
     "data": {
      "image/png": "[encoded data removed]",
      "text/plain": [
       "<Figure size 432x288 with 1 Axes>"
      ]
     },
     "metadata": {
      "needs_background": "light"
     },
     "output_type": "display_data"
    }
   ],
   "source": [
    "df['required_car_parking_space'].value_counts().plot(kind='bar', color=['royalblue','lime'])"
   ]
  },
  {
   "cell_type": "raw",
   "metadata": {},
   "source": [
    "The 'lead time'. Intuitively, when the reservations has been done with a lot of time in advance, it\n",
    "could be more likely that it's cancelled."
   ]
  },
  {
   "cell_type": "code",
   "execution_count": 29,
   "metadata": {
    "scrolled": true
   },
   "outputs": [
    {
     "data": {
      "text/plain": [
       "<matplotlib.axes._subplots.AxesSubplot at 0x25201479e88>"
      ]
     },
     "execution_count": 29,
     "metadata": {},
     "output_type": "execute_result"
    },
    {
     "data": {
      "image/png": "[encoded data removed]",
      "text/plain": [
       "<Figure size 432x288 with 1 Axes>"
      ]
     },
     "metadata": {
      "needs_background": "light"
     },
     "output_type": "display_data"
    }
   ],
   "source": [
    "df['lead_time'].hist(bins=100)"
   ]
  },
  {
   "cell_type": "raw",
   "metadata": {},
   "source": [
    "Let's look at the reservations that had been done with more than one year in advance"
   ]
  },
  {
   "cell_type": "code",
   "execution_count": 30,
   "metadata": {},
   "outputs": [
    {
     "data": {
      "text/plain": [
       "0    24390\n",
       "1    11885\n",
       "Name: booking_status, dtype: int64"
      ]
     },
     "execution_count": 30,
     "metadata": {},
     "output_type": "execute_result"
    }
   ],
   "source": [
    "# Values conversion to 0: Not_Canceled and 1:Canceled\n",
    "\n",
    "df['booking_status'].replace(['Not_Canceled', 'Canceled'], [0,1], inplace=True)\n",
    "\n",
    "df['booking_status'].value_counts()"
   ]
  },
  {
   "cell_type": "code",
   "execution_count": 34,
   "metadata": {},
   "outputs": [
    {
     "data": {
      "text/html": [
       "<div>\n",
       "<style scoped>\n",
       "    .dataframe tbody tr th:only-of-type {\n",
       "        vertical-align: middle;\n",
       "    }\n",
       "\n",
       "    .dataframe tbody tr th {\n",
       "        vertical-align: top;\n",
       "    }\n",
       "\n",
       "    .dataframe thead th {\n",
       "        text-align: right;\n",
       "    }\n",
       "</style>\n",
       "<table border=\"1\" class=\"dataframe\">\n",
       "  <thead>\n",
       "    <tr style=\"text-align: right;\">\n",
       "      <th></th>\n",
       "      <th>no_of_adults</th>\n",
       "      <th>no_of_children</th>\n",
       "      <th>no_of_weekend_nights</th>\n",
       "      <th>no_of_week_nights</th>\n",
       "      <th>type_of_meal_plan</th>\n",
       "      <th>required_car_parking_space</th>\n",
       "      <th>room_type_reserved</th>\n",
       "      <th>lead_time</th>\n",
       "      <th>arrival_year</th>\n",
       "      <th>arrival_month</th>\n",
       "      <th>arrival_date</th>\n",
       "      <th>market_segment_type</th>\n",
       "      <th>repeated_guest</th>\n",
       "      <th>no_of_previous_cancellations</th>\n",
       "      <th>no_of_previous_bookings_not_canceled</th>\n",
       "      <th>avg_price_per_room</th>\n",
       "      <th>no_of_special_requests</th>\n",
       "      <th>booking_status</th>\n",
       "    </tr>\n",
       "    <tr>\n",
       "      <th>Booking_ID</th>\n",
       "      <th></th>\n",
       "      <th></th>\n",
       "      <th></th>\n",
       "      <th></th>\n",
       "      <th></th>\n",
       "      <th></th>\n",
       "      <th></th>\n",
       "      <th></th>\n",
       "      <th></th>\n",
       "      <th></th>\n",
       "      <th></th>\n",
       "      <th></th>\n",
       "      <th></th>\n",
       "      <th></th>\n",
       "      <th></th>\n",
       "      <th></th>\n",
       "      <th></th>\n",
       "      <th></th>\n",
       "    </tr>\n",
       "  </thead>\n",
       "  <tbody>\n",
       "    <tr>\n",
       "      <th>INN00119</th>\n",
       "      <td>2</td>\n",
       "      <td>0</td>\n",
       "      <td>0</td>\n",
       "      <td>1</td>\n",
       "      <td>Meal Plan 1</td>\n",
       "      <td>0</td>\n",
       "      <td>Room_Type 1</td>\n",
       "      <td>443</td>\n",
       "      <td>2018</td>\n",
       "      <td>4</td>\n",
       "      <td>29</td>\n",
       "      <td>Online</td>\n",
       "      <td>0</td>\n",
       "      <td>0</td>\n",
       "      <td>0</td>\n",
       "      <td>65.0</td>\n",
       "      <td>0</td>\n",
       "      <td>1</td>\n",
       "    </tr>\n",
       "    <tr>\n",
       "      <th>INN00200</th>\n",
       "      <td>2</td>\n",
       "      <td>0</td>\n",
       "      <td>1</td>\n",
       "      <td>2</td>\n",
       "      <td>Meal Plan 2</td>\n",
       "      <td>0</td>\n",
       "      <td>Room_Type 1</td>\n",
       "      <td>418</td>\n",
       "      <td>2018</td>\n",
       "      <td>9</td>\n",
       "      <td>26</td>\n",
       "      <td>Online</td>\n",
       "      <td>0</td>\n",
       "      <td>0</td>\n",
       "      <td>0</td>\n",
       "      <td>107.0</td>\n",
       "      <td>0</td>\n",
       "      <td>1</td>\n",
       "    </tr>\n",
       "    <tr>\n",
       "      <th>INN00206</th>\n",
       "      <td>2</td>\n",
       "      <td>0</td>\n",
       "      <td>0</td>\n",
       "      <td>3</td>\n",
       "      <td>Meal Plan 1</td>\n",
       "      <td>0</td>\n",
       "      <td>Room_Type 1</td>\n",
       "      <td>433</td>\n",
       "      <td>2018</td>\n",
       "      <td>9</td>\n",
       "      <td>8</td>\n",
       "      <td>Online</td>\n",
       "      <td>0</td>\n",
       "      <td>0</td>\n",
       "      <td>0</td>\n",
       "      <td>70.0</td>\n",
       "      <td>0</td>\n",
       "      <td>1</td>\n",
       "    </tr>\n",
       "    <tr>\n",
       "      <th>INN00370</th>\n",
       "      <td>2</td>\n",
       "      <td>0</td>\n",
       "      <td>2</td>\n",
       "      <td>0</td>\n",
       "      <td>Meal Plan 2</td>\n",
       "      <td>0</td>\n",
       "      <td>Room_Type 1</td>\n",
       "      <td>386</td>\n",
       "      <td>2018</td>\n",
       "      <td>10</td>\n",
       "      <td>23</td>\n",
       "      <td>Online</td>\n",
       "      <td>0</td>\n",
       "      <td>0</td>\n",
       "      <td>0</td>\n",
       "      <td>115.0</td>\n",
       "      <td>1</td>\n",
       "      <td>1</td>\n",
       "    </tr>\n",
       "    <tr>\n",
       "      <th>INN00419</th>\n",
       "      <td>2</td>\n",
       "      <td>0</td>\n",
       "      <td>2</td>\n",
       "      <td>0</td>\n",
       "      <td>Meal Plan 2</td>\n",
       "      <td>0</td>\n",
       "      <td>Room_Type 1</td>\n",
       "      <td>386</td>\n",
       "      <td>2018</td>\n",
       "      <td>10</td>\n",
       "      <td>23</td>\n",
       "      <td>Online</td>\n",
       "      <td>0</td>\n",
       "      <td>0</td>\n",
       "      <td>0</td>\n",
       "      <td>115.0</td>\n",
       "      <td>1</td>\n",
       "      <td>1</td>\n",
       "    </tr>\n",
       "  </tbody>\n",
       "</table>\n",
       "</div>"
      ],
      "text/plain": [
       "            no_of_adults  no_of_children  no_of_weekend_nights  \\\n",
       "Booking_ID                                                       \n",
       "INN00119               2               0                     0   \n",
       "INN00200               2               0                     1   \n",
       "INN00206               2               0                     0   \n",
       "INN00370               2               0                     2   \n",
       "INN00419               2               0                     2   \n",
       "\n",
       "            no_of_week_nights type_of_meal_plan  required_car_parking_space  \\\n",
       "Booking_ID                                                                    \n",
       "INN00119                    1       Meal Plan 1                           0   \n",
       "INN00200                    2       Meal Plan 2                           0   \n",
       "INN00206                    3       Meal Plan 1                           0   \n",
       "INN00370                    0       Meal Plan 2                           0   \n",
       "INN00419                    0       Meal Plan 2                           0   \n",
       "\n",
       "           room_type_reserved  lead_time  arrival_year  arrival_month  \\\n",
       "Booking_ID                                                              \n",
       "INN00119          Room_Type 1        443          2018              4   \n",
       "INN00200          Room_Type 1        418          2018              9   \n",
       "INN00206          Room_Type 1        433          2018              9   \n",
       "INN00370          Room_Type 1        386          2018             10   \n",
       "INN00419          Room_Type 1        386          2018             10   \n",
       "\n",
       "            arrival_date market_segment_type  repeated_guest  \\\n",
       "Booking_ID                                                     \n",
       "INN00119              29              Online               0   \n",
       "INN00200              26              Online               0   \n",
       "INN00206               8              Online               0   \n",
       "INN00370              23              Online               0   \n",
       "INN00419              23              Online               0   \n",
       "\n",
       "            no_of_previous_cancellations  \\\n",
       "Booking_ID                                 \n",
       "INN00119                               0   \n",
       "INN00200                               0   \n",
       "INN00206                               0   \n",
       "INN00370                               0   \n",
       "INN00419                               0   \n",
       "\n",
       "            no_of_previous_bookings_not_canceled  avg_price_per_room  \\\n",
       "Booking_ID                                                             \n",
       "INN00119                                       0                65.0   \n",
       "INN00200                                       0               107.0   \n",
       "INN00206                                       0                70.0   \n",
       "INN00370                                       0               115.0   \n",
       "INN00419                                       0               115.0   \n",
       "\n",
       "            no_of_special_requests  booking_status  \n",
       "Booking_ID                                          \n",
       "INN00119                         0               1  \n",
       "INN00200                         0               1  \n",
       "INN00206                         0               1  \n",
       "INN00370                         1               1  \n",
       "INN00419                         1               1  "
      ]
     },
     "execution_count": 34,
     "metadata": {},
     "output_type": "execute_result"
    }
   ],
   "source": [
    "lead_time =df.loc[df['lead_time'] > 365]\n",
    "lead_time.head()"
   ]
  },
  {
   "cell_type": "code",
   "execution_count": 35,
   "metadata": {},
   "outputs": [
    {
     "data": {
      "text/plain": [
       "243"
      ]
     },
     "execution_count": 35,
     "metadata": {},
     "output_type": "execute_result"
    }
   ],
   "source": [
    "len(lead_time)"
   ]
  },
  {
   "cell_type": "code",
   "execution_count": 36,
   "metadata": {
    "scrolled": true
   },
   "outputs": [
    {
     "data": {
      "text/html": [
       "<div>\n",
       "<style scoped>\n",
       "    .dataframe tbody tr th:only-of-type {\n",
       "        vertical-align: middle;\n",
       "    }\n",
       "\n",
       "    .dataframe tbody tr th {\n",
       "        vertical-align: top;\n",
       "    }\n",
       "\n",
       "    .dataframe thead th {\n",
       "        text-align: right;\n",
       "    }\n",
       "</style>\n",
       "<table border=\"1\" class=\"dataframe\">\n",
       "  <thead>\n",
       "    <tr style=\"text-align: right;\">\n",
       "      <th></th>\n",
       "      <th>no_of_adults</th>\n",
       "      <th>no_of_children</th>\n",
       "      <th>no_of_weekend_nights</th>\n",
       "      <th>no_of_week_nights</th>\n",
       "      <th>type_of_meal_plan</th>\n",
       "      <th>required_car_parking_space</th>\n",
       "      <th>room_type_reserved</th>\n",
       "      <th>lead_time</th>\n",
       "      <th>arrival_year</th>\n",
       "      <th>arrival_month</th>\n",
       "      <th>arrival_date</th>\n",
       "      <th>market_segment_type</th>\n",
       "      <th>repeated_guest</th>\n",
       "      <th>no_of_previous_cancellations</th>\n",
       "      <th>no_of_previous_bookings_not_canceled</th>\n",
       "      <th>avg_price_per_room</th>\n",
       "      <th>no_of_special_requests</th>\n",
       "      <th>booking_status</th>\n",
       "    </tr>\n",
       "    <tr>\n",
       "      <th>Booking_ID</th>\n",
       "      <th></th>\n",
       "      <th></th>\n",
       "      <th></th>\n",
       "      <th></th>\n",
       "      <th></th>\n",
       "      <th></th>\n",
       "      <th></th>\n",
       "      <th></th>\n",
       "      <th></th>\n",
       "      <th></th>\n",
       "      <th></th>\n",
       "      <th></th>\n",
       "      <th></th>\n",
       "      <th></th>\n",
       "      <th></th>\n",
       "      <th></th>\n",
       "      <th></th>\n",
       "      <th></th>\n",
       "    </tr>\n",
       "  </thead>\n",
       "  <tbody>\n",
       "    <tr>\n",
       "      <th>INN00119</th>\n",
       "      <td>2</td>\n",
       "      <td>0</td>\n",
       "      <td>0</td>\n",
       "      <td>1</td>\n",
       "      <td>Meal Plan 1</td>\n",
       "      <td>0</td>\n",
       "      <td>Room_Type 1</td>\n",
       "      <td>443</td>\n",
       "      <td>2018</td>\n",
       "      <td>4</td>\n",
       "      <td>29</td>\n",
       "      <td>Online</td>\n",
       "      <td>0</td>\n",
       "      <td>0</td>\n",
       "      <td>0</td>\n",
       "      <td>65.0</td>\n",
       "      <td>0</td>\n",
       "      <td>1</td>\n",
       "    </tr>\n",
       "    <tr>\n",
       "      <th>INN00200</th>\n",
       "      <td>2</td>\n",
       "      <td>0</td>\n",
       "      <td>1</td>\n",
       "      <td>2</td>\n",
       "      <td>Meal Plan 2</td>\n",
       "      <td>0</td>\n",
       "      <td>Room_Type 1</td>\n",
       "      <td>418</td>\n",
       "      <td>2018</td>\n",
       "      <td>9</td>\n",
       "      <td>26</td>\n",
       "      <td>Online</td>\n",
       "      <td>0</td>\n",
       "      <td>0</td>\n",
       "      <td>0</td>\n",
       "      <td>107.0</td>\n",
       "      <td>0</td>\n",
       "      <td>1</td>\n",
       "    </tr>\n",
       "    <tr>\n",
       "      <th>INN00206</th>\n",
       "      <td>2</td>\n",
       "      <td>0</td>\n",
       "      <td>0</td>\n",
       "      <td>3</td>\n",
       "      <td>Meal Plan 1</td>\n",
       "      <td>0</td>\n",
       "      <td>Room_Type 1</td>\n",
       "      <td>433</td>\n",
       "      <td>2018</td>\n",
       "      <td>9</td>\n",
       "      <td>8</td>\n",
       "      <td>Online</td>\n",
       "      <td>0</td>\n",
       "      <td>0</td>\n",
       "      <td>0</td>\n",
       "      <td>70.0</td>\n",
       "      <td>0</td>\n",
       "      <td>1</td>\n",
       "    </tr>\n",
       "    <tr>\n",
       "      <th>INN00370</th>\n",
       "      <td>2</td>\n",
       "      <td>0</td>\n",
       "      <td>2</td>\n",
       "      <td>0</td>\n",
       "      <td>Meal Plan 2</td>\n",
       "      <td>0</td>\n",
       "      <td>Room_Type 1</td>\n",
       "      <td>386</td>\n",
       "      <td>2018</td>\n",
       "      <td>10</td>\n",
       "      <td>23</td>\n",
       "      <td>Online</td>\n",
       "      <td>0</td>\n",
       "      <td>0</td>\n",
       "      <td>0</td>\n",
       "      <td>115.0</td>\n",
       "      <td>1</td>\n",
       "      <td>1</td>\n",
       "    </tr>\n",
       "    <tr>\n",
       "      <th>INN00419</th>\n",
       "      <td>2</td>\n",
       "      <td>0</td>\n",
       "      <td>2</td>\n",
       "      <td>0</td>\n",
       "      <td>Meal Plan 2</td>\n",
       "      <td>0</td>\n",
       "      <td>Room_Type 1</td>\n",
       "      <td>386</td>\n",
       "      <td>2018</td>\n",
       "      <td>10</td>\n",
       "      <td>23</td>\n",
       "      <td>Online</td>\n",
       "      <td>0</td>\n",
       "      <td>0</td>\n",
       "      <td>0</td>\n",
       "      <td>115.0</td>\n",
       "      <td>1</td>\n",
       "      <td>1</td>\n",
       "    </tr>\n",
       "    <tr>\n",
       "      <th>...</th>\n",
       "      <td>...</td>\n",
       "      <td>...</td>\n",
       "      <td>...</td>\n",
       "      <td>...</td>\n",
       "      <td>...</td>\n",
       "      <td>...</td>\n",
       "      <td>...</td>\n",
       "      <td>...</td>\n",
       "      <td>...</td>\n",
       "      <td>...</td>\n",
       "      <td>...</td>\n",
       "      <td>...</td>\n",
       "      <td>...</td>\n",
       "      <td>...</td>\n",
       "      <td>...</td>\n",
       "      <td>...</td>\n",
       "      <td>...</td>\n",
       "      <td>...</td>\n",
       "    </tr>\n",
       "    <tr>\n",
       "      <th>INN35489</th>\n",
       "      <td>2</td>\n",
       "      <td>0</td>\n",
       "      <td>2</td>\n",
       "      <td>0</td>\n",
       "      <td>Meal Plan 2</td>\n",
       "      <td>0</td>\n",
       "      <td>Room_Type 1</td>\n",
       "      <td>386</td>\n",
       "      <td>2018</td>\n",
       "      <td>10</td>\n",
       "      <td>23</td>\n",
       "      <td>Offline</td>\n",
       "      <td>0</td>\n",
       "      <td>0</td>\n",
       "      <td>0</td>\n",
       "      <td>115.0</td>\n",
       "      <td>1</td>\n",
       "      <td>1</td>\n",
       "    </tr>\n",
       "    <tr>\n",
       "      <th>INN35595</th>\n",
       "      <td>2</td>\n",
       "      <td>0</td>\n",
       "      <td>1</td>\n",
       "      <td>2</td>\n",
       "      <td>Meal Plan 2</td>\n",
       "      <td>0</td>\n",
       "      <td>Room_Type 1</td>\n",
       "      <td>418</td>\n",
       "      <td>2018</td>\n",
       "      <td>9</td>\n",
       "      <td>26</td>\n",
       "      <td>Offline</td>\n",
       "      <td>0</td>\n",
       "      <td>0</td>\n",
       "      <td>0</td>\n",
       "      <td>107.0</td>\n",
       "      <td>0</td>\n",
       "      <td>1</td>\n",
       "    </tr>\n",
       "    <tr>\n",
       "      <th>INN35657</th>\n",
       "      <td>2</td>\n",
       "      <td>0</td>\n",
       "      <td>0</td>\n",
       "      <td>1</td>\n",
       "      <td>Meal Plan 1</td>\n",
       "      <td>0</td>\n",
       "      <td>Room_Type 1</td>\n",
       "      <td>443</td>\n",
       "      <td>2018</td>\n",
       "      <td>4</td>\n",
       "      <td>29</td>\n",
       "      <td>Offline</td>\n",
       "      <td>0</td>\n",
       "      <td>0</td>\n",
       "      <td>0</td>\n",
       "      <td>65.0</td>\n",
       "      <td>0</td>\n",
       "      <td>1</td>\n",
       "    </tr>\n",
       "    <tr>\n",
       "      <th>INN36007</th>\n",
       "      <td>2</td>\n",
       "      <td>0</td>\n",
       "      <td>0</td>\n",
       "      <td>2</td>\n",
       "      <td>Meal Plan 2</td>\n",
       "      <td>0</td>\n",
       "      <td>Room_Type 1</td>\n",
       "      <td>377</td>\n",
       "      <td>2018</td>\n",
       "      <td>10</td>\n",
       "      <td>14</td>\n",
       "      <td>Offline</td>\n",
       "      <td>0</td>\n",
       "      <td>0</td>\n",
       "      <td>0</td>\n",
       "      <td>115.0</td>\n",
       "      <td>1</td>\n",
       "      <td>1</td>\n",
       "    </tr>\n",
       "    <tr>\n",
       "      <th>INN36179</th>\n",
       "      <td>2</td>\n",
       "      <td>0</td>\n",
       "      <td>2</td>\n",
       "      <td>0</td>\n",
       "      <td>Meal Plan 2</td>\n",
       "      <td>0</td>\n",
       "      <td>Room_Type 1</td>\n",
       "      <td>386</td>\n",
       "      <td>2018</td>\n",
       "      <td>10</td>\n",
       "      <td>23</td>\n",
       "      <td>Offline</td>\n",
       "      <td>0</td>\n",
       "      <td>0</td>\n",
       "      <td>0</td>\n",
       "      <td>115.0</td>\n",
       "      <td>1</td>\n",
       "      <td>1</td>\n",
       "    </tr>\n",
       "  </tbody>\n",
       "</table>\n",
       "<p>231 rows × 18 columns</p>\n",
       "</div>"
      ],
      "text/plain": [
       "            no_of_adults  no_of_children  no_of_weekend_nights  \\\n",
       "Booking_ID                                                       \n",
       "INN00119               2               0                     0   \n",
       "INN00200               2               0                     1   \n",
       "INN00206               2               0                     0   \n",
       "INN00370               2               0                     2   \n",
       "INN00419               2               0                     2   \n",
       "...                  ...             ...                   ...   \n",
       "INN35489               2               0                     2   \n",
       "INN35595               2               0                     1   \n",
       "INN35657               2               0                     0   \n",
       "INN36007               2               0                     0   \n",
       "INN36179               2               0                     2   \n",
       "\n",
       "            no_of_week_nights type_of_meal_plan  required_car_parking_space  \\\n",
       "Booking_ID                                                                    \n",
       "INN00119                    1       Meal Plan 1                           0   \n",
       "INN00200                    2       Meal Plan 2                           0   \n",
       "INN00206                    3       Meal Plan 1                           0   \n",
       "INN00370                    0       Meal Plan 2                           0   \n",
       "INN00419                    0       Meal Plan 2                           0   \n",
       "...                       ...               ...                         ...   \n",
       "INN35489                    0       Meal Plan 2                           0   \n",
       "INN35595                    2       Meal Plan 2                           0   \n",
       "INN35657                    1       Meal Plan 1                           0   \n",
       "INN36007                    2       Meal Plan 2                           0   \n",
       "INN36179                    0       Meal Plan 2                           0   \n",
       "\n",
       "           room_type_reserved  lead_time  arrival_year  arrival_month  \\\n",
       "Booking_ID                                                              \n",
       "INN00119          Room_Type 1        443          2018              4   \n",
       "INN00200          Room_Type 1        418          2018              9   \n",
       "INN00206          Room_Type 1        433          2018              9   \n",
       "INN00370          Room_Type 1        386          2018             10   \n",
       "INN00419          Room_Type 1        386          2018             10   \n",
       "...                       ...        ...           ...            ...   \n",
       "INN35489          Room_Type 1        386          2018             10   \n",
       "INN35595          Room_Type 1        418          2018              9   \n",
       "INN35657          Room_Type 1        443          2018              4   \n",
       "INN36007          Room_Type 1        377          2018             10   \n",
       "INN36179          Room_Type 1        386          2018             10   \n",
       "\n",
       "            arrival_date market_segment_type  repeated_guest  \\\n",
       "Booking_ID                                                     \n",
       "INN00119              29              Online               0   \n",
       "INN00200              26              Online               0   \n",
       "INN00206               8              Online               0   \n",
       "INN00370              23              Online               0   \n",
       "INN00419              23              Online               0   \n",
       "...                  ...                 ...             ...   \n",
       "INN35489              23             Offline               0   \n",
       "INN35595              26             Offline               0   \n",
       "INN35657              29             Offline               0   \n",
       "INN36007              14             Offline               0   \n",
       "INN36179              23             Offline               0   \n",
       "\n",
       "            no_of_previous_cancellations  \\\n",
       "Booking_ID                                 \n",
       "INN00119                               0   \n",
       "INN00200                               0   \n",
       "INN00206                               0   \n",
       "INN00370                               0   \n",
       "INN00419                               0   \n",
       "...                                  ...   \n",
       "INN35489                               0   \n",
       "INN35595                               0   \n",
       "INN35657                               0   \n",
       "INN36007                               0   \n",
       "INN36179                               0   \n",
       "\n",
       "            no_of_previous_bookings_not_canceled  avg_price_per_room  \\\n",
       "Booking_ID                                                             \n",
       "INN00119                                       0                65.0   \n",
       "INN00200                                       0               107.0   \n",
       "INN00206                                       0                70.0   \n",
       "INN00370                                       0               115.0   \n",
       "INN00419                                       0               115.0   \n",
       "...                                          ...                 ...   \n",
       "INN35489                                       0               115.0   \n",
       "INN35595                                       0               107.0   \n",
       "INN35657                                       0                65.0   \n",
       "INN36007                                       0               115.0   \n",
       "INN36179                                       0               115.0   \n",
       "\n",
       "            no_of_special_requests  booking_status  \n",
       "Booking_ID                                          \n",
       "INN00119                         0               1  \n",
       "INN00200                         0               1  \n",
       "INN00206                         0               1  \n",
       "INN00370                         1               1  \n",
       "INN00419                         1               1  \n",
       "...                            ...             ...  \n",
       "INN35489                         1               1  \n",
       "INN35595                         0               1  \n",
       "INN35657                         0               1  \n",
       "INN36007                         1               1  \n",
       "INN36179                         1               1  \n",
       "\n",
       "[231 rows x 18 columns]"
      ]
     },
     "execution_count": 36,
     "metadata": {},
     "output_type": "execute_result"
    }
   ],
   "source": [
    "lead_time.loc[lead_time['booking_status'] == 1]"
   ]
  },
  {
   "cell_type": "markdown",
   "metadata": {},
   "source": [
    "It seems about 95% of the reservations that had been done with more than a year of anticipation have been cancelled"
   ]
  },
  {
   "cell_type": "markdown",
   "metadata": {},
   "source": [
    "A brief look of the remaining columns"
   ]
  },
  {
   "cell_type": "code",
   "execution_count": 37,
   "metadata": {},
   "outputs": [
    {
     "data": {
      "text/plain": [
       "<matplotlib.axes._subplots.AxesSubplot at 0x252013bf108>"
      ]
     },
     "execution_count": 37,
     "metadata": {},
     "output_type": "execute_result"
    },
    {
     "data": {
      "image/png": "[encoded data removed]",
      "text/plain": [
       "<Figure size 432x288 with 1 Axes>"
      ]
     },
     "metadata": {
      "needs_background": "light"
     },
     "output_type": "display_data"
    }
   ],
   "source": [
    "df['repeated_guest'].value_counts().plot(kind='bar')"
   ]
  },
  {
   "cell_type": "code",
   "execution_count": 38,
   "metadata": {},
   "outputs": [
    {
     "data": {
      "text/plain": [
       "0     35937\n",
       "1       198\n",
       "2        46\n",
       "3        43\n",
       "11       25\n",
       "5        11\n",
       "4        10\n",
       "13        4\n",
       "6         1\n",
       "Name: no_of_previous_cancellations, dtype: int64"
      ]
     },
     "execution_count": 38,
     "metadata": {},
     "output_type": "execute_result"
    }
   ],
   "source": [
    "df['no_of_previous_cancellations'].value_counts()"
   ]
  },
  {
   "cell_type": "markdown",
   "metadata": {},
   "source": [
    "Correlation between variables"
   ]
  },
  {
   "cell_type": "code",
   "execution_count": 39,
   "metadata": {},
   "outputs": [
    {
     "data": {
      "text/html": [
       "<div>\n",
       "<style scoped>\n",
       "    .dataframe tbody tr th:only-of-type {\n",
       "        vertical-align: middle;\n",
       "    }\n",
       "\n",
       "    .dataframe tbody tr th {\n",
       "        vertical-align: top;\n",
       "    }\n",
       "\n",
       "    .dataframe thead th {\n",
       "        text-align: right;\n",
       "    }\n",
       "</style>\n",
       "<table border=\"1\" class=\"dataframe\">\n",
       "  <thead>\n",
       "    <tr style=\"text-align: right;\">\n",
       "      <th></th>\n",
       "      <th>no_of_adults</th>\n",
       "      <th>no_of_children</th>\n",
       "      <th>no_of_weekend_nights</th>\n",
       "      <th>no_of_week_nights</th>\n",
       "      <th>required_car_parking_space</th>\n",
       "      <th>lead_time</th>\n",
       "      <th>arrival_year</th>\n",
       "      <th>arrival_month</th>\n",
       "      <th>arrival_date</th>\n",
       "      <th>repeated_guest</th>\n",
       "      <th>no_of_previous_cancellations</th>\n",
       "      <th>no_of_previous_bookings_not_canceled</th>\n",
       "      <th>avg_price_per_room</th>\n",
       "      <th>no_of_special_requests</th>\n",
       "      <th>booking_status</th>\n",
       "    </tr>\n",
       "  </thead>\n",
       "  <tbody>\n",
       "    <tr>\n",
       "      <th>no_of_adults</th>\n",
       "      <td>1.000000</td>\n",
       "      <td>-0.019787</td>\n",
       "      <td>0.103316</td>\n",
       "      <td>0.105622</td>\n",
       "      <td>0.011429</td>\n",
       "      <td>0.097287</td>\n",
       "      <td>0.076719</td>\n",
       "      <td>0.021841</td>\n",
       "      <td>0.026338</td>\n",
       "      <td>-0.192277</td>\n",
       "      <td>-0.047426</td>\n",
       "      <td>-0.119166</td>\n",
       "      <td>0.296886</td>\n",
       "      <td>0.189401</td>\n",
       "      <td>0.086920</td>\n",
       "    </tr>\n",
       "    <tr>\n",
       "      <th>no_of_children</th>\n",
       "      <td>-0.019787</td>\n",
       "      <td>1.000000</td>\n",
       "      <td>0.029478</td>\n",
       "      <td>0.024398</td>\n",
       "      <td>0.034244</td>\n",
       "      <td>-0.047091</td>\n",
       "      <td>0.045983</td>\n",
       "      <td>-0.003076</td>\n",
       "      <td>0.025482</td>\n",
       "      <td>-0.036348</td>\n",
       "      <td>-0.016390</td>\n",
       "      <td>-0.021189</td>\n",
       "      <td>0.337728</td>\n",
       "      <td>0.124486</td>\n",
       "      <td>0.033078</td>\n",
       "    </tr>\n",
       "    <tr>\n",
       "      <th>no_of_weekend_nights</th>\n",
       "      <td>0.103316</td>\n",
       "      <td>0.029478</td>\n",
       "      <td>1.000000</td>\n",
       "      <td>0.179577</td>\n",
       "      <td>-0.031111</td>\n",
       "      <td>0.046595</td>\n",
       "      <td>0.055357</td>\n",
       "      <td>-0.009894</td>\n",
       "      <td>0.027304</td>\n",
       "      <td>-0.067107</td>\n",
       "      <td>-0.020690</td>\n",
       "      <td>-0.026312</td>\n",
       "      <td>-0.004525</td>\n",
       "      <td>0.060593</td>\n",
       "      <td>0.061563</td>\n",
       "    </tr>\n",
       "    <tr>\n",
       "      <th>no_of_week_nights</th>\n",
       "      <td>0.105622</td>\n",
       "      <td>0.024398</td>\n",
       "      <td>0.179577</td>\n",
       "      <td>1.000000</td>\n",
       "      <td>-0.048784</td>\n",
       "      <td>0.149650</td>\n",
       "      <td>0.032672</td>\n",
       "      <td>0.037376</td>\n",
       "      <td>-0.009305</td>\n",
       "      <td>-0.099764</td>\n",
       "      <td>-0.030080</td>\n",
       "      <td>-0.049344</td>\n",
       "      <td>0.022753</td>\n",
       "      <td>0.045994</td>\n",
       "      <td>0.092996</td>\n",
       "    </tr>\n",
       "    <tr>\n",
       "      <th>required_car_parking_space</th>\n",
       "      <td>0.011429</td>\n",
       "      <td>0.034244</td>\n",
       "      <td>-0.031111</td>\n",
       "      <td>-0.048784</td>\n",
       "      <td>1.000000</td>\n",
       "      <td>-0.066445</td>\n",
       "      <td>0.015684</td>\n",
       "      <td>-0.015505</td>\n",
       "      <td>-0.000037</td>\n",
       "      <td>0.110909</td>\n",
       "      <td>0.027106</td>\n",
       "      <td>0.063810</td>\n",
       "      <td>0.061304</td>\n",
       "      <td>0.087922</td>\n",
       "      <td>-0.086185</td>\n",
       "    </tr>\n",
       "    <tr>\n",
       "      <th>lead_time</th>\n",
       "      <td>0.097287</td>\n",
       "      <td>-0.047091</td>\n",
       "      <td>0.046595</td>\n",
       "      <td>0.149650</td>\n",
       "      <td>-0.066445</td>\n",
       "      <td>1.000000</td>\n",
       "      <td>0.143439</td>\n",
       "      <td>0.136814</td>\n",
       "      <td>0.006479</td>\n",
       "      <td>-0.135984</td>\n",
       "      <td>-0.045723</td>\n",
       "      <td>-0.078137</td>\n",
       "      <td>-0.062596</td>\n",
       "      <td>-0.101645</td>\n",
       "      <td>0.438538</td>\n",
       "    </tr>\n",
       "    <tr>\n",
       "      <th>arrival_year</th>\n",
       "      <td>0.076719</td>\n",
       "      <td>0.045983</td>\n",
       "      <td>0.055357</td>\n",
       "      <td>0.032672</td>\n",
       "      <td>0.015684</td>\n",
       "      <td>0.143439</td>\n",
       "      <td>1.000000</td>\n",
       "      <td>-0.339689</td>\n",
       "      <td>0.018849</td>\n",
       "      <td>-0.018175</td>\n",
       "      <td>0.003919</td>\n",
       "      <td>0.026422</td>\n",
       "      <td>0.178605</td>\n",
       "      <td>0.053205</td>\n",
       "      <td>0.179529</td>\n",
       "    </tr>\n",
       "    <tr>\n",
       "      <th>arrival_month</th>\n",
       "      <td>0.021841</td>\n",
       "      <td>-0.003076</td>\n",
       "      <td>-0.009894</td>\n",
       "      <td>0.037376</td>\n",
       "      <td>-0.015505</td>\n",
       "      <td>0.136814</td>\n",
       "      <td>-0.339689</td>\n",
       "      <td>1.000000</td>\n",
       "      <td>-0.042780</td>\n",
       "      <td>0.000341</td>\n",
       "      <td>-0.038615</td>\n",
       "      <td>-0.010718</td>\n",
       "      <td>0.054423</td>\n",
       "      <td>0.110552</td>\n",
       "      <td>-0.011233</td>\n",
       "    </tr>\n",
       "    <tr>\n",
       "      <th>arrival_date</th>\n",
       "      <td>0.026338</td>\n",
       "      <td>0.025482</td>\n",
       "      <td>0.027304</td>\n",
       "      <td>-0.009305</td>\n",
       "      <td>-0.000037</td>\n",
       "      <td>0.006479</td>\n",
       "      <td>0.018849</td>\n",
       "      <td>-0.042780</td>\n",
       "      <td>1.000000</td>\n",
       "      <td>-0.015949</td>\n",
       "      <td>-0.012542</td>\n",
       "      <td>-0.001498</td>\n",
       "      <td>0.017898</td>\n",
       "      <td>0.018352</td>\n",
       "      <td>0.010629</td>\n",
       "    </tr>\n",
       "    <tr>\n",
       "      <th>repeated_guest</th>\n",
       "      <td>-0.192277</td>\n",
       "      <td>-0.036348</td>\n",
       "      <td>-0.067107</td>\n",
       "      <td>-0.099764</td>\n",
       "      <td>0.110909</td>\n",
       "      <td>-0.135984</td>\n",
       "      <td>-0.018175</td>\n",
       "      <td>0.000341</td>\n",
       "      <td>-0.015949</td>\n",
       "      <td>1.000000</td>\n",
       "      <td>0.390810</td>\n",
       "      <td>0.539156</td>\n",
       "      <td>-0.174900</td>\n",
       "      <td>-0.011820</td>\n",
       "      <td>-0.107287</td>\n",
       "    </tr>\n",
       "    <tr>\n",
       "      <th>no_of_previous_cancellations</th>\n",
       "      <td>-0.047426</td>\n",
       "      <td>-0.016390</td>\n",
       "      <td>-0.020690</td>\n",
       "      <td>-0.030080</td>\n",
       "      <td>0.027106</td>\n",
       "      <td>-0.045723</td>\n",
       "      <td>0.003919</td>\n",
       "      <td>-0.038615</td>\n",
       "      <td>-0.012542</td>\n",
       "      <td>0.390810</td>\n",
       "      <td>1.000000</td>\n",
       "      <td>0.468147</td>\n",
       "      <td>-0.063340</td>\n",
       "      <td>-0.003317</td>\n",
       "      <td>-0.033728</td>\n",
       "    </tr>\n",
       "    <tr>\n",
       "      <th>no_of_previous_bookings_not_canceled</th>\n",
       "      <td>-0.119166</td>\n",
       "      <td>-0.021189</td>\n",
       "      <td>-0.026312</td>\n",
       "      <td>-0.049344</td>\n",
       "      <td>0.063810</td>\n",
       "      <td>-0.078137</td>\n",
       "      <td>0.026422</td>\n",
       "      <td>-0.010718</td>\n",
       "      <td>-0.001498</td>\n",
       "      <td>0.539156</td>\n",
       "      <td>0.468147</td>\n",
       "      <td>1.000000</td>\n",
       "      <td>-0.113684</td>\n",
       "      <td>0.027377</td>\n",
       "      <td>-0.060179</td>\n",
       "    </tr>\n",
       "    <tr>\n",
       "      <th>avg_price_per_room</th>\n",
       "      <td>0.296886</td>\n",
       "      <td>0.337728</td>\n",
       "      <td>-0.004525</td>\n",
       "      <td>0.022753</td>\n",
       "      <td>0.061304</td>\n",
       "      <td>-0.062596</td>\n",
       "      <td>0.178605</td>\n",
       "      <td>0.054423</td>\n",
       "      <td>0.017898</td>\n",
       "      <td>-0.174900</td>\n",
       "      <td>-0.063340</td>\n",
       "      <td>-0.113684</td>\n",
       "      <td>1.000000</td>\n",
       "      <td>0.184381</td>\n",
       "      <td>0.142569</td>\n",
       "    </tr>\n",
       "    <tr>\n",
       "      <th>no_of_special_requests</th>\n",
       "      <td>0.189401</td>\n",
       "      <td>0.124486</td>\n",
       "      <td>0.060593</td>\n",
       "      <td>0.045994</td>\n",
       "      <td>0.087922</td>\n",
       "      <td>-0.101645</td>\n",
       "      <td>0.053205</td>\n",
       "      <td>0.110552</td>\n",
       "      <td>0.018352</td>\n",
       "      <td>-0.011820</td>\n",
       "      <td>-0.003317</td>\n",
       "      <td>0.027377</td>\n",
       "      <td>0.184381</td>\n",
       "      <td>1.000000</td>\n",
       "      <td>-0.253070</td>\n",
       "    </tr>\n",
       "    <tr>\n",
       "      <th>booking_status</th>\n",
       "      <td>0.086920</td>\n",
       "      <td>0.033078</td>\n",
       "      <td>0.061563</td>\n",
       "      <td>0.092996</td>\n",
       "      <td>-0.086185</td>\n",
       "      <td>0.438538</td>\n",
       "      <td>0.179529</td>\n",
       "      <td>-0.011233</td>\n",
       "      <td>0.010629</td>\n",
       "      <td>-0.107287</td>\n",
       "      <td>-0.033728</td>\n",
       "      <td>-0.060179</td>\n",
       "      <td>0.142569</td>\n",
       "      <td>-0.253070</td>\n",
       "      <td>1.000000</td>\n",
       "    </tr>\n",
       "  </tbody>\n",
       "</table>\n",
       "</div>"
      ],
      "text/plain": [
       "                                      no_of_adults  no_of_children  \\\n",
       "no_of_adults                              1.000000       -0.019787   \n",
       "no_of_children                           -0.019787        1.000000   \n",
       "no_of_weekend_nights                      0.103316        0.029478   \n",
       "no_of_week_nights                         0.105622        0.024398   \n",
       "required_car_parking_space                0.011429        0.034244   \n",
       "lead_time                                 0.097287       -0.047091   \n",
       "arrival_year                              0.076719        0.045983   \n",
       "arrival_month                             0.021841       -0.003076   \n",
       "arrival_date                              0.026338        0.025482   \n",
       "repeated_guest                           -0.192277       -0.036348   \n",
       "no_of_previous_cancellations             -0.047426       -0.016390   \n",
       "no_of_previous_bookings_not_canceled     -0.119166       -0.021189   \n",
       "avg_price_per_room                        0.296886        0.337728   \n",
       "no_of_special_requests                    0.189401        0.124486   \n",
       "booking_status                            0.086920        0.033078   \n",
       "\n",
       "                                      no_of_weekend_nights  no_of_week_nights  \\\n",
       "no_of_adults                                      0.103316           0.105622   \n",
       "no_of_children                                    0.029478           0.024398   \n",
       "no_of_weekend_nights                              1.000000           0.179577   \n",
       "no_of_week_nights                                 0.179577           1.000000   \n",
       "required_car_parking_space                       -0.031111          -0.048784   \n",
       "lead_time                                         0.046595           0.149650   \n",
       "arrival_year                                      0.055357           0.032672   \n",
       "arrival_month                                    -0.009894           0.037376   \n",
       "arrival_date                                      0.027304          -0.009305   \n",
       "repeated_guest                                   -0.067107          -0.099764   \n",
       "no_of_previous_cancellations                     -0.020690          -0.030080   \n",
       "no_of_previous_bookings_not_canceled             -0.026312          -0.049344   \n",
       "avg_price_per_room                               -0.004525           0.022753   \n",
       "no_of_special_requests                            0.060593           0.045994   \n",
       "booking_status                                    0.061563           0.092996   \n",
       "\n",
       "                                      required_car_parking_space  lead_time  \\\n",
       "no_of_adults                                            0.011429   0.097287   \n",
       "no_of_children                                          0.034244  -0.047091   \n",
       "no_of_weekend_nights                                   -0.031111   0.046595   \n",
       "no_of_week_nights                                      -0.048784   0.149650   \n",
       "required_car_parking_space                              1.000000  -0.066445   \n",
       "lead_time                                              -0.066445   1.000000   \n",
       "arrival_year                                            0.015684   0.143439   \n",
       "arrival_month                                          -0.015505   0.136814   \n",
       "arrival_date                                           -0.000037   0.006479   \n",
       "repeated_guest                                          0.110909  -0.135984   \n",
       "no_of_previous_cancellations                            0.027106  -0.045723   \n",
       "no_of_previous_bookings_not_canceled                    0.063810  -0.078137   \n",
       "avg_price_per_room                                      0.061304  -0.062596   \n",
       "no_of_special_requests                                  0.087922  -0.101645   \n",
       "booking_status                                         -0.086185   0.438538   \n",
       "\n",
       "                                      arrival_year  arrival_month  \\\n",
       "no_of_adults                              0.076719       0.021841   \n",
       "no_of_children                            0.045983      -0.003076   \n",
       "no_of_weekend_nights                      0.055357      -0.009894   \n",
       "no_of_week_nights                         0.032672       0.037376   \n",
       "required_car_parking_space                0.015684      -0.015505   \n",
       "lead_time                                 0.143439       0.136814   \n",
       "arrival_year                              1.000000      -0.339689   \n",
       "arrival_month                            -0.339689       1.000000   \n",
       "arrival_date                              0.018849      -0.042780   \n",
       "repeated_guest                           -0.018175       0.000341   \n",
       "no_of_previous_cancellations              0.003919      -0.038615   \n",
       "no_of_previous_bookings_not_canceled      0.026422      -0.010718   \n",
       "avg_price_per_room                        0.178605       0.054423   \n",
       "no_of_special_requests                    0.053205       0.110552   \n",
       "booking_status                            0.179529      -0.011233   \n",
       "\n",
       "                                      arrival_date  repeated_guest  \\\n",
       "no_of_adults                              0.026338       -0.192277   \n",
       "no_of_children                            0.025482       -0.036348   \n",
       "no_of_weekend_nights                      0.027304       -0.067107   \n",
       "no_of_week_nights                        -0.009305       -0.099764   \n",
       "required_car_parking_space               -0.000037        0.110909   \n",
       "lead_time                                 0.006479       -0.135984   \n",
       "arrival_year                              0.018849       -0.018175   \n",
       "arrival_month                            -0.042780        0.000341   \n",
       "arrival_date                              1.000000       -0.015949   \n",
       "repeated_guest                           -0.015949        1.000000   \n",
       "no_of_previous_cancellations             -0.012542        0.390810   \n",
       "no_of_previous_bookings_not_canceled     -0.001498        0.539156   \n",
       "avg_price_per_room                        0.017898       -0.174900   \n",
       "no_of_special_requests                    0.018352       -0.011820   \n",
       "booking_status                            0.010629       -0.107287   \n",
       "\n",
       "                                      no_of_previous_cancellations  \\\n",
       "no_of_adults                                             -0.047426   \n",
       "no_of_children                                           -0.016390   \n",
       "no_of_weekend_nights                                     -0.020690   \n",
       "no_of_week_nights                                        -0.030080   \n",
       "required_car_parking_space                                0.027106   \n",
       "lead_time                                                -0.045723   \n",
       "arrival_year                                              0.003919   \n",
       "arrival_month                                            -0.038615   \n",
       "arrival_date                                             -0.012542   \n",
       "repeated_guest                                            0.390810   \n",
       "no_of_previous_cancellations                              1.000000   \n",
       "no_of_previous_bookings_not_canceled                      0.468147   \n",
       "avg_price_per_room                                       -0.063340   \n",
       "no_of_special_requests                                   -0.003317   \n",
       "booking_status                                           -0.033728   \n",
       "\n",
       "                                      no_of_previous_bookings_not_canceled  \\\n",
       "no_of_adults                                                     -0.119166   \n",
       "no_of_children                                                   -0.021189   \n",
       "no_of_weekend_nights                                             -0.026312   \n",
       "no_of_week_nights                                                -0.049344   \n",
       "required_car_parking_space                                        0.063810   \n",
       "lead_time                                                        -0.078137   \n",
       "arrival_year                                                      0.026422   \n",
       "arrival_month                                                    -0.010718   \n",
       "arrival_date                                                     -0.001498   \n",
       "repeated_guest                                                    0.539156   \n",
       "no_of_previous_cancellations                                      0.468147   \n",
       "no_of_previous_bookings_not_canceled                              1.000000   \n",
       "avg_price_per_room                                               -0.113684   \n",
       "no_of_special_requests                                            0.027377   \n",
       "booking_status                                                   -0.060179   \n",
       "\n",
       "                                      avg_price_per_room  \\\n",
       "no_of_adults                                    0.296886   \n",
       "no_of_children                                  0.337728   \n",
       "no_of_weekend_nights                           -0.004525   \n",
       "no_of_week_nights                               0.022753   \n",
       "required_car_parking_space                      0.061304   \n",
       "lead_time                                      -0.062596   \n",
       "arrival_year                                    0.178605   \n",
       "arrival_month                                   0.054423   \n",
       "arrival_date                                    0.017898   \n",
       "repeated_guest                                 -0.174900   \n",
       "no_of_previous_cancellations                   -0.063340   \n",
       "no_of_previous_bookings_not_canceled           -0.113684   \n",
       "avg_price_per_room                              1.000000   \n",
       "no_of_special_requests                          0.184381   \n",
       "booking_status                                  0.142569   \n",
       "\n",
       "                                      no_of_special_requests  booking_status  \n",
       "no_of_adults                                        0.189401        0.086920  \n",
       "no_of_children                                      0.124486        0.033078  \n",
       "no_of_weekend_nights                                0.060593        0.061563  \n",
       "no_of_week_nights                                   0.045994        0.092996  \n",
       "required_car_parking_space                          0.087922       -0.086185  \n",
       "lead_time                                          -0.101645        0.438538  \n",
       "arrival_year                                        0.053205        0.179529  \n",
       "arrival_month                                       0.110552       -0.011233  \n",
       "arrival_date                                        0.018352        0.010629  \n",
       "repeated_guest                                     -0.011820       -0.107287  \n",
       "no_of_previous_cancellations                       -0.003317       -0.033728  \n",
       "no_of_previous_bookings_not_canceled                0.027377       -0.060179  \n",
       "avg_price_per_room                                  0.184381        0.142569  \n",
       "no_of_special_requests                              1.000000       -0.253070  \n",
       "booking_status                                     -0.253070        1.000000  "
      ]
     },
     "execution_count": 39,
     "metadata": {},
     "output_type": "execute_result"
    }
   ],
   "source": [
    "df.corr()"
   ]
  },
  {
   "cell_type": "code",
   "execution_count": null,
   "metadata": {},
   "outputs": [],
   "source": [
    "# Converting Categorical to numerical"
   ]
  },
  {
   "cell_type": "code",
   "execution_count": 41,
   "metadata": {},
   "outputs": [],
   "source": [
    "from sklearn import preprocessing\n",
    "le=preprocessing.LabelEncoder()\n",
    "for x in colname:\n",
    "    df[x]=le.fit_transform(df[x])"
   ]
  },
  {
   "cell_type": "code",
   "execution_count": 42,
   "metadata": {},
   "outputs": [
    {
     "data": {
      "text/plain": [
       "no_of_adults                            int64\n",
       "no_of_children                          int64\n",
       "no_of_weekend_nights                    int64\n",
       "no_of_week_nights                       int64\n",
       "type_of_meal_plan                       int32\n",
       "required_car_parking_space              int64\n",
       "room_type_reserved                      int32\n",
       "lead_time                               int64\n",
       "arrival_year                            int64\n",
       "arrival_month                           int64\n",
       "arrival_date                            int64\n",
       "market_segment_type                     int32\n",
       "repeated_guest                          int64\n",
       "no_of_previous_cancellations            int64\n",
       "no_of_previous_bookings_not_canceled    int64\n",
       "avg_price_per_room                      int64\n",
       "no_of_special_requests                  int64\n",
       "booking_status                          int64\n",
       "dtype: object"
      ]
     },
     "execution_count": 42,
     "metadata": {},
     "output_type": "execute_result"
    }
   ],
   "source": [
    "df.dtypes"
   ]
  },
  {
   "cell_type": "code",
   "execution_count": 43,
   "metadata": {},
   "outputs": [
    {
     "data": {
      "text/html": [
       "<div>\n",
       "<style scoped>\n",
       "    .dataframe tbody tr th:only-of-type {\n",
       "        vertical-align: middle;\n",
       "    }\n",
       "\n",
       "    .dataframe tbody tr th {\n",
       "        vertical-align: top;\n",
       "    }\n",
       "\n",
       "    .dataframe thead th {\n",
       "        text-align: right;\n",
       "    }\n",
       "</style>\n",
       "<table border=\"1\" class=\"dataframe\">\n",
       "  <thead>\n",
       "    <tr style=\"text-align: right;\">\n",
       "      <th></th>\n",
       "      <th>no_of_adults</th>\n",
       "      <th>no_of_children</th>\n",
       "      <th>no_of_weekend_nights</th>\n",
       "      <th>no_of_week_nights</th>\n",
       "      <th>type_of_meal_plan</th>\n",
       "      <th>required_car_parking_space</th>\n",
       "      <th>room_type_reserved</th>\n",
       "      <th>lead_time</th>\n",
       "      <th>arrival_year</th>\n",
       "      <th>arrival_month</th>\n",
       "      <th>arrival_date</th>\n",
       "      <th>market_segment_type</th>\n",
       "      <th>repeated_guest</th>\n",
       "      <th>no_of_previous_cancellations</th>\n",
       "      <th>no_of_previous_bookings_not_canceled</th>\n",
       "      <th>avg_price_per_room</th>\n",
       "      <th>no_of_special_requests</th>\n",
       "      <th>booking_status</th>\n",
       "    </tr>\n",
       "    <tr>\n",
       "      <th>Booking_ID</th>\n",
       "      <th></th>\n",
       "      <th></th>\n",
       "      <th></th>\n",
       "      <th></th>\n",
       "      <th></th>\n",
       "      <th></th>\n",
       "      <th></th>\n",
       "      <th></th>\n",
       "      <th></th>\n",
       "      <th></th>\n",
       "      <th></th>\n",
       "      <th></th>\n",
       "      <th></th>\n",
       "      <th></th>\n",
       "      <th></th>\n",
       "      <th></th>\n",
       "      <th></th>\n",
       "      <th></th>\n",
       "    </tr>\n",
       "  </thead>\n",
       "  <tbody>\n",
       "    <tr>\n",
       "      <th>INN00001</th>\n",
       "      <td>2</td>\n",
       "      <td>0</td>\n",
       "      <td>1</td>\n",
       "      <td>2</td>\n",
       "      <td>0</td>\n",
       "      <td>0</td>\n",
       "      <td>0</td>\n",
       "      <td>224</td>\n",
       "      <td>0</td>\n",
       "      <td>9</td>\n",
       "      <td>1</td>\n",
       "      <td>3</td>\n",
       "      <td>0</td>\n",
       "      <td>0</td>\n",
       "      <td>0</td>\n",
       "      <td>343</td>\n",
       "      <td>0</td>\n",
       "      <td>0</td>\n",
       "    </tr>\n",
       "    <tr>\n",
       "      <th>INN00002</th>\n",
       "      <td>2</td>\n",
       "      <td>0</td>\n",
       "      <td>2</td>\n",
       "      <td>3</td>\n",
       "      <td>3</td>\n",
       "      <td>0</td>\n",
       "      <td>0</td>\n",
       "      <td>5</td>\n",
       "      <td>1</td>\n",
       "      <td>10</td>\n",
       "      <td>5</td>\n",
       "      <td>4</td>\n",
       "      <td>0</td>\n",
       "      <td>0</td>\n",
       "      <td>0</td>\n",
       "      <td>1912</td>\n",
       "      <td>1</td>\n",
       "      <td>0</td>\n",
       "    </tr>\n",
       "    <tr>\n",
       "      <th>INN00003</th>\n",
       "      <td>1</td>\n",
       "      <td>0</td>\n",
       "      <td>2</td>\n",
       "      <td>1</td>\n",
       "      <td>0</td>\n",
       "      <td>0</td>\n",
       "      <td>0</td>\n",
       "      <td>1</td>\n",
       "      <td>1</td>\n",
       "      <td>1</td>\n",
       "      <td>27</td>\n",
       "      <td>4</td>\n",
       "      <td>0</td>\n",
       "      <td>0</td>\n",
       "      <td>0</td>\n",
       "      <td>238</td>\n",
       "      <td>0</td>\n",
       "      <td>1</td>\n",
       "    </tr>\n",
       "    <tr>\n",
       "      <th>INN00004</th>\n",
       "      <td>2</td>\n",
       "      <td>0</td>\n",
       "      <td>0</td>\n",
       "      <td>2</td>\n",
       "      <td>0</td>\n",
       "      <td>0</td>\n",
       "      <td>0</td>\n",
       "      <td>211</td>\n",
       "      <td>1</td>\n",
       "      <td>4</td>\n",
       "      <td>19</td>\n",
       "      <td>4</td>\n",
       "      <td>0</td>\n",
       "      <td>0</td>\n",
       "      <td>0</td>\n",
       "      <td>1645</td>\n",
       "      <td>0</td>\n",
       "      <td>1</td>\n",
       "    </tr>\n",
       "    <tr>\n",
       "      <th>INN00005</th>\n",
       "      <td>2</td>\n",
       "      <td>0</td>\n",
       "      <td>1</td>\n",
       "      <td>1</td>\n",
       "      <td>3</td>\n",
       "      <td>0</td>\n",
       "      <td>0</td>\n",
       "      <td>48</td>\n",
       "      <td>1</td>\n",
       "      <td>3</td>\n",
       "      <td>10</td>\n",
       "      <td>4</td>\n",
       "      <td>0</td>\n",
       "      <td>0</td>\n",
       "      <td>0</td>\n",
       "      <td>1435</td>\n",
       "      <td>0</td>\n",
       "      <td>1</td>\n",
       "    </tr>\n",
       "  </tbody>\n",
       "</table>\n",
       "</div>"
      ],
      "text/plain": [
       "            no_of_adults  no_of_children  no_of_weekend_nights  \\\n",
       "Booking_ID                                                       \n",
       "INN00001               2               0                     1   \n",
       "INN00002               2               0                     2   \n",
       "INN00003               1               0                     2   \n",
       "INN00004               2               0                     0   \n",
       "INN00005               2               0                     1   \n",
       "\n",
       "            no_of_week_nights  type_of_meal_plan  required_car_parking_space  \\\n",
       "Booking_ID                                                                     \n",
       "INN00001                    2                  0                           0   \n",
       "INN00002                    3                  3                           0   \n",
       "INN00003                    1                  0                           0   \n",
       "INN00004                    2                  0                           0   \n",
       "INN00005                    1                  3                           0   \n",
       "\n",
       "            room_type_reserved  lead_time  arrival_year  arrival_month  \\\n",
       "Booking_ID                                                               \n",
       "INN00001                     0        224             0              9   \n",
       "INN00002                     0          5             1             10   \n",
       "INN00003                     0          1             1              1   \n",
       "INN00004                     0        211             1              4   \n",
       "INN00005                     0         48             1              3   \n",
       "\n",
       "            arrival_date  market_segment_type  repeated_guest  \\\n",
       "Booking_ID                                                      \n",
       "INN00001               1                    3               0   \n",
       "INN00002               5                    4               0   \n",
       "INN00003              27                    4               0   \n",
       "INN00004              19                    4               0   \n",
       "INN00005              10                    4               0   \n",
       "\n",
       "            no_of_previous_cancellations  \\\n",
       "Booking_ID                                 \n",
       "INN00001                               0   \n",
       "INN00002                               0   \n",
       "INN00003                               0   \n",
       "INN00004                               0   \n",
       "INN00005                               0   \n",
       "\n",
       "            no_of_previous_bookings_not_canceled  avg_price_per_room  \\\n",
       "Booking_ID                                                             \n",
       "INN00001                                       0                 343   \n",
       "INN00002                                       0                1912   \n",
       "INN00003                                       0                 238   \n",
       "INN00004                                       0                1645   \n",
       "INN00005                                       0                1435   \n",
       "\n",
       "            no_of_special_requests  booking_status  \n",
       "Booking_ID                                          \n",
       "INN00001                         0               0  \n",
       "INN00002                         1               0  \n",
       "INN00003                         0               1  \n",
       "INN00004                         0               1  \n",
       "INN00005                         0               1  "
      ]
     },
     "execution_count": 43,
     "metadata": {},
     "output_type": "execute_result"
    }
   ],
   "source": [
    "df.head()"
   ]
  },
  {
   "cell_type": "code",
   "execution_count": 44,
   "metadata": {},
   "outputs": [],
   "source": [
    "X=df.values[:,0:-1]\n",
    "Y=df.values[:,-1]"
   ]
  },
  {
   "cell_type": "code",
   "execution_count": 45,
   "metadata": {},
   "outputs": [
    {
     "data": {
      "text/plain": [
       "(36275, 17)"
      ]
     },
     "execution_count": 45,
     "metadata": {},
     "output_type": "execute_result"
    }
   ],
   "source": [
    "X.shape"
   ]
  },
  {
   "cell_type": "code",
   "execution_count": 46,
   "metadata": {},
   "outputs": [
    {
     "data": {
      "text/plain": [
       "(36275,)"
      ]
     },
     "execution_count": 46,
     "metadata": {},
     "output_type": "execute_result"
    }
   ],
   "source": [
    "Y.shape"
   ]
  },
  {
   "cell_type": "code",
   "execution_count": null,
   "metadata": {},
   "outputs": [],
   "source": [
    "# scaling the data "
   ]
  },
  {
   "cell_type": "code",
   "execution_count": 47,
   "metadata": {},
   "outputs": [],
   "source": [
    "from sklearn.preprocessing import StandardScaler\n",
    "\n",
    "scaler=StandardScaler()\n",
    "scaler.fit(X)\n",
    "X=scaler.transform(X)"
   ]
  },
  {
   "cell_type": "code",
   "execution_count": 48,
   "metadata": {},
   "outputs": [
    {
     "data": {
      "text/plain": [
       "array([[ 0.29889263, -0.26503143,  0.2174012 , ..., -0.08745646,\n",
       "        -1.39291001, -0.78813999],\n",
       "       [ 0.29889263, -0.26503143,  1.36599262, ..., -0.08745646,\n",
       "         0.23024535,  0.48376045],\n",
       "       [-1.62897546, -0.26503143,  1.36599262, ..., -0.08745646,\n",
       "        -1.50153417, -0.78813999],\n",
       "       ...,\n",
       "       [ 0.29889263, -0.26503143,  1.36599262, ..., -0.08745646,\n",
       "        -0.10390326,  1.75566089],\n",
       "       [ 0.29889263, -0.26503143, -0.93119021, ..., -0.08745646,\n",
       "        -0.2632187 , -0.78813999],\n",
       "       [ 0.29889263, -0.26503143,  0.2174012 , ..., -0.08745646,\n",
       "         1.69098173, -0.78813999]])"
      ]
     },
     "execution_count": 48,
     "metadata": {},
     "output_type": "execute_result"
    }
   ],
   "source": [
    "X"
   ]
  },
  {
   "cell_type": "code",
   "execution_count": 49,
   "metadata": {},
   "outputs": [],
   "source": [
    "from sklearn.model_selection import train_test_split\n",
    "# Split the data into test and train\n",
    "X_train,X_test,Y_train,Y_test=train_test_split(X,Y,test_size=0.3,random_state=10)"
   ]
  },
  {
   "cell_type": "code",
   "execution_count": null,
   "metadata": {},
   "outputs": [],
   "source": [
    "# Building Model"
   ]
  },
  {
   "cell_type": "markdown",
   "metadata": {},
   "source": [
    "# using Basic Decision Tree Model"
   ]
  },
  {
   "cell_type": "code",
   "execution_count": 50,
   "metadata": {},
   "outputs": [],
   "source": [
    "# predicting using the Decision Tree Classifier\n",
    "from sklearn.tree import DecisionTreeClassifier\n",
    "\n",
    "model_DecisionTree=DecisionTreeClassifier(criterion='gini',random_state=10,splitter='best')\n",
    "\n",
    "# fit the model on the data and predict the values \n",
    "model_DecisionTree.fit(X_train,Y_train)\n",
    "Y_pred=model_DecisionTree.predict(X_test)\n",
    "#print(Y_pred)\n",
    "#print(list(zip(Y_test,Y_pred)))"
   ]
  },
  {
   "cell_type": "code",
   "execution_count": 51,
   "metadata": {},
   "outputs": [
    {
     "name": "stdout",
     "output_type": "stream",
     "text": [
      "[[6537  754]\n",
      " [ 708 2884]]\n",
      "Classification report: \n",
      "              precision    recall  f1-score   support\n",
      "\n",
      "           0       0.90      0.90      0.90      7291\n",
      "           1       0.79      0.80      0.80      3592\n",
      "\n",
      "    accuracy                           0.87     10883\n",
      "   macro avg       0.85      0.85      0.85     10883\n",
      "weighted avg       0.87      0.87      0.87     10883\n",
      "\n",
      "Accuracy of the model:  0.8656620417164385\n"
     ]
    }
   ],
   "source": [
    "from sklearn.metrics import confusion_matrix, accuracy_score, classification_report\n",
    "\n",
    "cfm=confusion_matrix(Y_test,Y_pred)\n",
    "print(cfm)\n",
    "\n",
    "print(\"Classification report: \")\n",
    "\n",
    "print(classification_report(Y_test,Y_pred))\n",
    "\n",
    "acc=accuracy_score(Y_test, Y_pred)\n",
    "print(\"Accuracy of the model: \",acc)"
   ]
  },
  {
   "cell_type": "code",
   "execution_count": 52,
   "metadata": {},
   "outputs": [
    {
     "data": {
      "text/plain": [
       "0.9944470699432892"
      ]
     },
     "execution_count": 52,
     "metadata": {},
     "output_type": "execute_result"
    }
   ],
   "source": [
    "model_DecisionTree.score(X_train,Y_train)"
   ]
  },
  {
   "cell_type": "code",
   "execution_count": 53,
   "metadata": {},
   "outputs": [
    {
     "name": "stdout",
     "output_type": "stream",
     "text": [
      "[('no_of_adults', 0.03266569057111608), ('no_of_children', 0.005627205506620036), ('no_of_weekend_nights', 0.034335285709111665), ('no_of_week_nights', 0.04299417547004838), ('type_of_meal_plan', 0.012433098815758364), ('required_car_parking_space', 0.007001751176089644), ('room_type_reserved', 0.0077425368261100245), ('lead_time', 0.365315614415335), ('arrival_year', 0.012495175490844872), ('arrival_month', 0.0667918167273687), ('arrival_date', 0.07715288479934804), ('market_segment_type', 0.09429995938430459), ('repeated_guest', 0.0005901834017643064), ('no_of_previous_cancellations', 0.00027896176022687607), ('no_of_previous_bookings_not_canceled', 0.00038589329289568817), ('avg_price_per_room', 0.17125156403090636), ('no_of_special_requests', 0.06863820262215148)]\n"
     ]
    }
   ],
   "source": [
    "print((list(zip(df.columns[0:-1],\n",
    "               model_DecisionTree.feature_importances_))))"
   ]
  },
  {
   "cell_type": "code",
   "execution_count": 54,
   "metadata": {},
   "outputs": [
    {
     "data": {
      "text/html": [
       "<div>\n",
       "<style scoped>\n",
       "    .dataframe tbody tr th:only-of-type {\n",
       "        vertical-align: middle;\n",
       "    }\n",
       "\n",
       "    .dataframe tbody tr th {\n",
       "        vertical-align: top;\n",
       "    }\n",
       "\n",
       "    .dataframe thead th {\n",
       "        text-align: right;\n",
       "    }\n",
       "</style>\n",
       "<table border=\"1\" class=\"dataframe\">\n",
       "  <thead>\n",
       "    <tr style=\"text-align: right;\">\n",
       "      <th></th>\n",
       "      <th>Column</th>\n",
       "      <th>Imp value</th>\n",
       "    </tr>\n",
       "  </thead>\n",
       "  <tbody>\n",
       "    <tr>\n",
       "      <th>7</th>\n",
       "      <td>lead_time</td>\n",
       "      <td>0.365316</td>\n",
       "    </tr>\n",
       "    <tr>\n",
       "      <th>15</th>\n",
       "      <td>avg_price_per_room</td>\n",
       "      <td>0.171252</td>\n",
       "    </tr>\n",
       "    <tr>\n",
       "      <th>11</th>\n",
       "      <td>market_segment_type</td>\n",
       "      <td>0.094300</td>\n",
       "    </tr>\n",
       "    <tr>\n",
       "      <th>10</th>\n",
       "      <td>arrival_date</td>\n",
       "      <td>0.077153</td>\n",
       "    </tr>\n",
       "    <tr>\n",
       "      <th>16</th>\n",
       "      <td>no_of_special_requests</td>\n",
       "      <td>0.068638</td>\n",
       "    </tr>\n",
       "    <tr>\n",
       "      <th>9</th>\n",
       "      <td>arrival_month</td>\n",
       "      <td>0.066792</td>\n",
       "    </tr>\n",
       "    <tr>\n",
       "      <th>3</th>\n",
       "      <td>no_of_week_nights</td>\n",
       "      <td>0.042994</td>\n",
       "    </tr>\n",
       "    <tr>\n",
       "      <th>2</th>\n",
       "      <td>no_of_weekend_nights</td>\n",
       "      <td>0.034335</td>\n",
       "    </tr>\n",
       "    <tr>\n",
       "      <th>0</th>\n",
       "      <td>no_of_adults</td>\n",
       "      <td>0.032666</td>\n",
       "    </tr>\n",
       "    <tr>\n",
       "      <th>8</th>\n",
       "      <td>arrival_year</td>\n",
       "      <td>0.012495</td>\n",
       "    </tr>\n",
       "    <tr>\n",
       "      <th>4</th>\n",
       "      <td>type_of_meal_plan</td>\n",
       "      <td>0.012433</td>\n",
       "    </tr>\n",
       "    <tr>\n",
       "      <th>6</th>\n",
       "      <td>room_type_reserved</td>\n",
       "      <td>0.007743</td>\n",
       "    </tr>\n",
       "    <tr>\n",
       "      <th>5</th>\n",
       "      <td>required_car_parking_space</td>\n",
       "      <td>0.007002</td>\n",
       "    </tr>\n",
       "    <tr>\n",
       "      <th>1</th>\n",
       "      <td>no_of_children</td>\n",
       "      <td>0.005627</td>\n",
       "    </tr>\n",
       "    <tr>\n",
       "      <th>12</th>\n",
       "      <td>repeated_guest</td>\n",
       "      <td>0.000590</td>\n",
       "    </tr>\n",
       "    <tr>\n",
       "      <th>14</th>\n",
       "      <td>no_of_previous_bookings_not_canceled</td>\n",
       "      <td>0.000386</td>\n",
       "    </tr>\n",
       "    <tr>\n",
       "      <th>13</th>\n",
       "      <td>no_of_previous_cancellations</td>\n",
       "      <td>0.000279</td>\n",
       "    </tr>\n",
       "  </tbody>\n",
       "</table>\n",
       "</div>"
      ],
      "text/plain": [
       "                                  Column  Imp value\n",
       "7                              lead_time   0.365316\n",
       "15                    avg_price_per_room   0.171252\n",
       "11                   market_segment_type   0.094300\n",
       "10                          arrival_date   0.077153\n",
       "16                no_of_special_requests   0.068638\n",
       "9                          arrival_month   0.066792\n",
       "3                      no_of_week_nights   0.042994\n",
       "2                   no_of_weekend_nights   0.034335\n",
       "0                           no_of_adults   0.032666\n",
       "8                           arrival_year   0.012495\n",
       "4                      type_of_meal_plan   0.012433\n",
       "6                     room_type_reserved   0.007743\n",
       "5             required_car_parking_space   0.007002\n",
       "1                         no_of_children   0.005627\n",
       "12                        repeated_guest   0.000590\n",
       "14  no_of_previous_bookings_not_canceled   0.000386\n",
       "13          no_of_previous_cancellations   0.000279"
      ]
     },
     "execution_count": 54,
     "metadata": {},
     "output_type": "execute_result"
    }
   ],
   "source": [
    "sample=pd.DataFrame()\n",
    " \n",
    "sample[\"Column\"]=df.columns[0:-1]\n",
    "sample[\"Imp value\"]=model_DecisionTree.feature_importances_\n",
    " \n",
    "sample.sort_values(\"Imp value\",ascending=False)"
   ]
  },
  {
   "cell_type": "code",
   "execution_count": 55,
   "metadata": {},
   "outputs": [],
   "source": [
    "from sklearn.tree import DecisionTreeClassifier\n",
    "from sklearn.svm import SVC\n",
    "from sklearn.neighbors import KNeighborsClassifier\n",
    "from sklearn.linear_model import LogisticRegression\n",
    " \n",
    "# first, initialize the classificators\n",
    "tree= DecisionTreeClassifier(random_state=10) # using the random state for reproducibility\n",
    "knn= KNeighborsClassifier(n_neighbors=5,metric='euclidean')\n",
    "svm= SVC(kernel=\"rbf\", gamma=0.1, C=90,random_state=10)\n",
    "logreg=LogisticRegression(multi_class=\"multinomial\",random_state=10)"
   ]
  },
  {
   "cell_type": "code",
   "execution_count": 56,
   "metadata": {},
   "outputs": [],
   "source": [
    "# now, create a list with the objects \n",
    "models= [tree, knn, svm, logreg]"
   ]
  },
  {
   "cell_type": "code",
   "execution_count": 57,
   "metadata": {},
   "outputs": [
    {
     "name": "stdout",
     "output_type": "stream",
     "text": [
      "[[6537  754]\n",
      " [ 708 2884]]\n",
      "The accuracy of the  DecisionTreeClassifier  model is  86.56620417164385\n",
      "Classification report:\n",
      "               precision    recall  f1-score   support\n",
      "\n",
      "           0       0.90      0.90      0.90      7291\n",
      "           1       0.79      0.80      0.80      3592\n",
      "\n",
      "    accuracy                           0.87     10883\n",
      "   macro avg       0.85      0.85      0.85     10883\n",
      "weighted avg       0.87      0.87      0.87     10883\n",
      "\n",
      "\n",
      "\n",
      "[[6567  724]\n",
      " [ 903 2689]]\n",
      "The accuracy of the  KNeighborsClassifier  model is  85.05007810346412\n",
      "Classification report:\n",
      "               precision    recall  f1-score   support\n",
      "\n",
      "           0       0.88      0.90      0.89      7291\n",
      "           1       0.79      0.75      0.77      3592\n",
      "\n",
      "    accuracy                           0.85     10883\n",
      "   macro avg       0.83      0.82      0.83     10883\n",
      "weighted avg       0.85      0.85      0.85     10883\n",
      "\n",
      "\n",
      "\n",
      "[[6606  685]\n",
      " [ 824 2768]]\n",
      "The accuracy of the  SVC  model is  86.13433795828355\n",
      "Classification report:\n",
      "               precision    recall  f1-score   support\n",
      "\n",
      "           0       0.89      0.91      0.90      7291\n",
      "           1       0.80      0.77      0.79      3592\n",
      "\n",
      "    accuracy                           0.86     10883\n",
      "   macro avg       0.85      0.84      0.84     10883\n",
      "weighted avg       0.86      0.86      0.86     10883\n",
      "\n",
      "\n",
      "\n",
      "[[6562  729]\n",
      " [1341 2251]]\n",
      "The accuracy of the  LogisticRegression  model is  80.97950932647248\n",
      "Classification report:\n",
      "               precision    recall  f1-score   support\n",
      "\n",
      "           0       0.83      0.90      0.86      7291\n",
      "           1       0.76      0.63      0.69      3592\n",
      "\n",
      "    accuracy                           0.81     10883\n",
      "   macro avg       0.79      0.76      0.77     10883\n",
      "weighted avg       0.81      0.81      0.80     10883\n",
      "\n",
      "\n",
      "\n"
     ]
    }
   ],
   "source": [
    "from sklearn.metrics import confusion_matrix, accuracy_score,classification_report\n",
    " \n",
    "for model in models:\n",
    "    model.fit(X_train, Y_train) # fit the model\n",
    "    Y_pred= model.predict(X_test) # then predict on the test set\n",
    "    accuracy= accuracy_score(Y_test, Y_pred) \n",
    "    clf_report= classification_report(Y_test, Y_pred) \n",
    "    print(confusion_matrix(Y_test,Y_pred))\n",
    "    print(\"The accuracy of the \",type(model).__name__, \" model is \", accuracy*100 )\n",
    "    print(\"Classification report:\\n\", clf_report)\n",
    "    print(\"\\n\")"
   ]
  },
  {
   "cell_type": "markdown",
   "metadata": {},
   "source": [
    "# predicting using the random_forest_classifier"
   ]
  },
  {
   "cell_type": "code",
   "execution_count": 58,
   "metadata": {},
   "outputs": [],
   "source": [
    "from sklearn.ensemble import RandomForestClassifier\n",
    "\n",
    "model_RandomForest=RandomForestClassifier(n_estimators=100,random_state=10,\n",
    "                                         bootstrap=True,max_features=0.6)\n",
    "# fit the model on the data and predict the values \n",
    "model_RandomForest.fit(X_train,Y_train)\n",
    "\n",
    "Y_pred=model_RandomForest.predict(X_test)"
   ]
  },
  {
   "cell_type": "code",
   "execution_count": 59,
   "metadata": {},
   "outputs": [
    {
     "name": "stdout",
     "output_type": "stream",
     "text": [
      "[[6922  369]\n",
      " [ 688 2904]]\n",
      "Classification report: \n",
      "              precision    recall  f1-score   support\n",
      "\n",
      "           0       0.91      0.95      0.93      7291\n",
      "           1       0.89      0.81      0.85      3592\n",
      "\n",
      "    accuracy                           0.90     10883\n",
      "   macro avg       0.90      0.88      0.89     10883\n",
      "weighted avg       0.90      0.90      0.90     10883\n",
      "\n",
      "Accuracy of the model:  0.9028760452081228\n"
     ]
    }
   ],
   "source": [
    "from sklearn.metrics import confusion_matrix, accuracy_score, classification_report\n",
    "\n",
    "cfm=confusion_matrix(Y_test,Y_pred)\n",
    "print(cfm)\n",
    "\n",
    "print(\"Classification report: \")\n",
    "\n",
    "print(classification_report(Y_test,Y_pred))\n",
    "\n",
    "acc=accuracy_score(Y_test, Y_pred)\n",
    "print(\"Accuracy of the model: \",acc)"
   ]
  },
  {
   "cell_type": "code",
   "execution_count": 60,
   "metadata": {},
   "outputs": [],
   "source": [
    "from sklearn.ensemble import ExtraTreesClassifier\n",
    "\n",
    "model_EXT=ExtraTreesClassifier(n_estimators=100,random_state=10, bootstrap=True)\n",
    "# fit the model on the data and predict the values \n",
    "model_EXT.fit(X_train,Y_train)\n",
    "\n",
    "Y_pred=model_EXT.predict(X_test)"
   ]
  },
  {
   "cell_type": "code",
   "execution_count": 61,
   "metadata": {},
   "outputs": [
    {
     "name": "stdout",
     "output_type": "stream",
     "text": [
      "[[6888  403]\n",
      " [ 709 2883]]\n",
      "Classification report: \n",
      "              precision    recall  f1-score   support\n",
      "\n",
      "           0       0.91      0.94      0.93      7291\n",
      "           1       0.88      0.80      0.84      3592\n",
      "\n",
      "    accuracy                           0.90     10883\n",
      "   macro avg       0.89      0.87      0.88     10883\n",
      "weighted avg       0.90      0.90      0.90     10883\n",
      "\n",
      "Accuracy of the model:  0.8978222916475237\n"
     ]
    }
   ],
   "source": [
    "from sklearn.metrics import confusion_matrix, accuracy_score, classification_report\n",
    "\n",
    "cfm=confusion_matrix(Y_test,Y_pred)\n",
    "print(cfm)\n",
    "\n",
    "print(\"Classification report: \")\n",
    "\n",
    "print(classification_report(Y_test,Y_pred))\n",
    "\n",
    "acc=accuracy_score(Y_test, Y_pred)\n",
    "print(\"Accuracy of the model: \",acc)"
   ]
  },
  {
   "cell_type": "markdown",
   "metadata": {},
   "source": [
    "# Running Adaboost Classifier"
   ]
  },
  {
   "cell_type": "code",
   "execution_count": 62,
   "metadata": {},
   "outputs": [],
   "source": [
    "# predicting using Adaboost_Classifier\n",
    "from sklearn.ensemble import AdaBoostClassifier\n",
    "\n",
    "model_AdaBoost=AdaBoostClassifier(base_estimator=\n",
    "                                 DecisionTreeClassifier(random_state=10),\n",
    "                                 n_estimators=100,\n",
    "                                 random_state=10)\n",
    "# fit the model on the data and predict the values \n",
    "model_AdaBoost.fit(X_train,Y_train)\n",
    "Y_pred=model_AdaBoost.predict(X_test)\n"
   ]
  },
  {
   "cell_type": "code",
   "execution_count": 63,
   "metadata": {},
   "outputs": [
    {
     "name": "stdout",
     "output_type": "stream",
     "text": [
      "[[6846  445]\n",
      " [ 769 2823]]\n",
      "Classification report: \n",
      "              precision    recall  f1-score   support\n",
      "\n",
      "           0       0.90      0.94      0.92      7291\n",
      "           1       0.86      0.79      0.82      3592\n",
      "\n",
      "    accuracy                           0.89     10883\n",
      "   macro avg       0.88      0.86      0.87     10883\n",
      "weighted avg       0.89      0.89      0.89     10883\n",
      "\n",
      "Accuracy of the model:  0.8884498759533217\n"
     ]
    }
   ],
   "source": [
    "from sklearn.metrics import confusion_matrix, accuracy_score, classification_report\n",
    "\n",
    "cfm=confusion_matrix(Y_test,Y_pred)\n",
    "print(cfm)\n",
    "\n",
    "print(\"Classification report: \")\n",
    "\n",
    "print(classification_report(Y_test,Y_pred))\n",
    "\n",
    "acc=accuracy_score(Y_test, Y_pred)\n",
    "print(\"Accuracy of the model: \",acc)"
   ]
  },
  {
   "cell_type": "markdown",
   "metadata": {},
   "source": [
    "# Running Gradient Boosting Classifier"
   ]
  },
  {
   "cell_type": "code",
   "execution_count": 64,
   "metadata": {},
   "outputs": [],
   "source": [
    "# predicting using Adaboost_Classifier\n",
    "from sklearn.ensemble import GradientBoostingClassifier\n",
    "\n",
    "model_GradientBoosting=GradientBoostingClassifier(n_estimators=300,random_state=10)\n",
    "# fit the model on the data and predict the values \n",
    "model_GradientBoosting.fit(X_train,Y_train)\n",
    "Y_pred=model_GradientBoosting.predict(X_test)\n"
   ]
  },
  {
   "cell_type": "code",
   "execution_count": 65,
   "metadata": {},
   "outputs": [
    {
     "name": "stdout",
     "output_type": "stream",
     "text": [
      "[[6754  537]\n",
      " [ 930 2662]]\n",
      "Classification report: \n",
      "              precision    recall  f1-score   support\n",
      "\n",
      "           0       0.88      0.93      0.90      7291\n",
      "           1       0.83      0.74      0.78      3592\n",
      "\n",
      "    accuracy                           0.87     10883\n",
      "   macro avg       0.86      0.83      0.84     10883\n",
      "weighted avg       0.86      0.87      0.86     10883\n",
      "\n",
      "Accuracy of the model:  0.8652026095745659\n"
     ]
    }
   ],
   "source": [
    "from sklearn.metrics import confusion_matrix, accuracy_score, classification_report\n",
    "\n",
    "cfm=confusion_matrix(Y_test,Y_pred)\n",
    "print(cfm)\n",
    "\n",
    "print(\"Classification report: \")\n",
    "\n",
    "print(classification_report(Y_test,Y_pred))\n",
    "\n",
    "acc=accuracy_score(Y_test, Y_pred)\n",
    "print(\"Accuracy of the model: \",acc)"
   ]
  },
  {
   "cell_type": "markdown",
   "metadata": {},
   "source": [
    "# Running XGBoost"
   ]
  },
  {
   "cell_type": "code",
   "execution_count": 66,
   "metadata": {},
   "outputs": [
    {
     "name": "stdout",
     "output_type": "stream",
     "text": [
      "[16:05:54] WARNING: C:/Users/administrator/workspace/xgboost-win64_release_1.6.0/src/learner.cc:627: \n",
      "Parameters: { \"n_estimatores\" } might not be used.\n",
      "\n",
      "  This could be a false alarm, with some parameters getting used by language bindings but\n",
      "  then being mistakenly passed down to XGBoost core, or some parameter actually being used\n",
      "  but getting flagged wrongly here. Please open an issue if you find any such cases.\n",
      "\n",
      "\n"
     ]
    }
   ],
   "source": [
    "from xgboost import XGBClassifier\n",
    "model_GradientBoosting=XGBClassifier(n_estimatores=100,random_state=10)\n",
    "\n",
    "# fit the model on the data and predict the values \n",
    "model_GradientBoosting.fit(X_train,Y_train)\n",
    "Y_pred=model_GradientBoosting.predict(X_test)\n"
   ]
  },
  {
   "cell_type": "code",
   "execution_count": 67,
   "metadata": {},
   "outputs": [
    {
     "name": "stdout",
     "output_type": "stream",
     "text": [
      "[[6856  435]\n",
      " [ 712 2880]]\n",
      "Classification report: \n",
      "              precision    recall  f1-score   support\n",
      "\n",
      "           0       0.91      0.94      0.92      7291\n",
      "           1       0.87      0.80      0.83      3592\n",
      "\n",
      "    accuracy                           0.89     10883\n",
      "   macro avg       0.89      0.87      0.88     10883\n",
      "weighted avg       0.89      0.89      0.89     10883\n",
      "\n",
      "Accuracy of the model:  0.8946062666544151\n"
     ]
    }
   ],
   "source": [
    "from sklearn.metrics import confusion_matrix, accuracy_score, classification_report\n",
    "\n",
    "cfm=confusion_matrix(Y_test,Y_pred)\n",
    "print(cfm)\n",
    "\n",
    "print(\"Classification report: \")\n",
    "\n",
    "print(classification_report(Y_test,Y_pred))\n",
    "\n",
    "acc=accuracy_score(Y_test, Y_pred)\n",
    "print(\"Accuracy of the model: \",acc)"
   ]
  },
  {
   "cell_type": "code",
   "execution_count": 68,
   "metadata": {},
   "outputs": [],
   "source": [
    "from sklearn.linear_model import LogisticRegression\n",
    "from sklearn.tree import DecisionTreeClassifier\n",
    "from sklearn.svm import SVC\n",
    "from sklearn.ensemble import VotingClassifier\n",
    "from sklearn.neighbors import KNeighborsClassifier"
   ]
  },
  {
   "cell_type": "code",
   "execution_count": 69,
   "metadata": {},
   "outputs": [],
   "source": [
    "# create the sub models\n",
    "estimators = []\n",
    "model1 = LogisticRegression()\n",
    "estimators.append(('log', model1))\n",
    "model2 = DecisionTreeClassifier(criterion='gini',random_state=10)\n",
    "estimators.append(('cart', model2))\n",
    "model3 = SVC(kernel=\"rbf\", C=90,gamma=0.1)\n",
    "estimators.append(('svm', model3))\n",
    "model4 = KNeighborsClassifier(n_neighbors=5, metric='euclidean')\n",
    "estimators.append(('knn', model4))"
   ]
  },
  {
   "cell_type": "code",
   "execution_count": 70,
   "metadata": {},
   "outputs": [],
   "source": [
    "# create the ensemble model\n",
    "ensemble = VotingClassifier(estimators)\n",
    "ensemble.fit(X_train,Y_train)\n",
    "Y_pred=ensemble.predict(X_test)\n",
    "#print(Y_pred)"
   ]
  },
  {
   "cell_type": "code",
   "execution_count": 71,
   "metadata": {},
   "outputs": [
    {
     "name": "stdout",
     "output_type": "stream",
     "text": [
      "[[6943  348]\n",
      " [1009 2583]]\n",
      "Classification report: \n",
      "              precision    recall  f1-score   support\n",
      "\n",
      "           0       0.87      0.95      0.91      7291\n",
      "           1       0.88      0.72      0.79      3592\n",
      "\n",
      "    accuracy                           0.88     10883\n",
      "   macro avg       0.88      0.84      0.85     10883\n",
      "weighted avg       0.88      0.88      0.87     10883\n",
      "\n",
      "Accuracy of the model:  0.8753101166957641\n"
     ]
    }
   ],
   "source": [
    "from sklearn.metrics import confusion_matrix, accuracy_score, classification_report\n",
    "\n",
    "cfm=confusion_matrix(Y_test,Y_pred)\n",
    "print(cfm)\n",
    "\n",
    "print(\"Classification report: \")\n",
    "\n",
    "print(classification_report(Y_test,Y_pred))\n",
    "\n",
    "acc=accuracy_score(Y_test, Y_pred)\n",
    "print(\"Accuracy of the model: \",acc)"
   ]
  },
  {
   "cell_type": "code",
   "execution_count": 72,
   "metadata": {},
   "outputs": [],
   "source": [
    "# we will use Random forest Classifier for further predictions as it gives best accuracy "
   ]
  },
  {
   "cell_type": "code",
   "execution_count": null,
   "metadata": {},
   "outputs": [],
   "source": []
  }
 ],
 "metadata": {
  "kernelspec": {
   "display_name": "Python 3",
   "language": "python",
   "name": "python3"
  },
  "language_info": {
   "codemirror_mode": {
    "name": "ipython",
    "version": 3
   },
   "file_extension": ".py",
   "mimetype": "text/x-python",
   "name": "python",
   "nbconvert_exporter": "python",
   "pygments_lexer": "ipython3",
   "version": "3.7.6"
  }
 },
 "nbformat": 4,
 "nbformat_minor": 4
}
